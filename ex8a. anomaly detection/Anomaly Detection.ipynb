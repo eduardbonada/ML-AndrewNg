{
 "cells": [
  {
   "cell_type": "markdown",
   "metadata": {},
   "source": [
    "# Anomaly Detection\n",
    "\n",
    "This notebook covers the first part of the 8th exercise of the Machine Learning course at Coursera (the second part is on RecSys).\n",
    "\n",
    "It focuses on implementing an anomaly detection algorithm using a Gaussian model and apply it to detect failing servers on a network."
   ]
  },
  {
   "cell_type": "code",
   "execution_count": 18,
   "metadata": {
    "collapsed": true
   },
   "outputs": [],
   "source": [
    "import numpy as np\n",
    "import pandas as pd\n",
    "import matplotlib.pyplot as plt\n",
    "from scipy.io import loadmat\n",
    "from scipy import stats\n",
    "%matplotlib inline"
   ]
  },
  {
   "cell_type": "markdown",
   "metadata": {},
   "source": [
    "## Anomaly Detection Implementation"
   ]
  },
  {
   "cell_type": "code",
   "execution_count": 162,
   "metadata": {
    "collapsed": true
   },
   "outputs": [],
   "source": [
    "# Function that estimates the gaussian parameters mu and sigma of a given dataset X\n",
    "# params:\n",
    "# - X: data matrix [num_samples x num_features]\n",
    "# returns:\n",
    "# - mu: means of the features [num_features]\n",
    "# - sigma2: sigma squared of the features [num_features]\n",
    "def estimate_gaussian_params(X):\n",
    "    mu = X.mean(axis=0)\n",
    "    sigma2 = X.var(axis=0)\n",
    "    \n",
    "    return mu, sigma2"
   ]
  },
  {
   "cell_type": "code",
   "execution_count": 302,
   "metadata": {
    "collapsed": true
   },
   "outputs": [],
   "source": [
    "# Function that computes the probabilities (gaussian value) of each feature for each sample\n",
    "# params:\n",
    "# - X: data matrix [num_samples x num_features]\n",
    "# - mu: means of the features [num_features]\n",
    "# - sigma: sigmas of the features [num_features]\n",
    "# returns:\n",
    "# - prob: probablities (gaussian values)\n",
    "def compute_gaussian_probabilities(X, mu, sigma):\n",
    "\n",
    "    # compute gaussian value (using built-in norm function of scipy)\n",
    "    prob = stats.norm(mu, sigma).pdf(X)\n",
    "    \n",
    "    # multiply all feature probabilities p(x) = p(x1)·p(x2)·...\n",
    "    prob = np.prod(prob,axis=1);\n",
    "    \n",
    "    return np.matrix(prob).T"
   ]
  },
  {
   "cell_type": "code",
   "execution_count": 286,
   "metadata": {
    "collapsed": true
   },
   "outputs": [],
   "source": [
    "# Function that computes the best threshold value (maximizing F1 score on a labeled validation set)\n",
    "# params\n",
    "# - gaussian_probabilities: matrix of gaussian probabilities of each feature for each sample [num_samples x num_features] \n",
    "# - validation_labels: array of labels of the validation samples (not anomalous vs anomalous)\n",
    "# returns:\n",
    "# - epsilon: best found threshold value\n",
    "def select_threshold(gaussian_probabilities, validation_labels):\n",
    "\n",
    "    # init aux variables\n",
    "    epsilon = 0\n",
    "    best_f1 = 0\n",
    "    step = (gaussian_probabilities.max() - gaussian_probabilities.min()) / 1000\n",
    "\n",
    "    # loop all epsilon step values\n",
    "    for e in np.arange(gaussian_probabilities.min(), gaussian_probabilities.max(), step):\n",
    "        \n",
    "        # compute predictions\n",
    "        prediction_labels = gaussian_probabilities < e\n",
    "        \n",
    "        # compute TP, FP and FN\n",
    "        tp = np.sum(np.logical_and(prediction_labels == True, validation_labels == 1)).astype(float)\n",
    "        fp = np.sum(np.logical_and(prediction_labels == True, validation_labels == 0)).astype(float)\n",
    "        fn = np.sum(np.logical_and(prediction_labels == False, validation_labels == 1)).astype(float)\n",
    "        \n",
    "        # compute precision and recall\n",
    "        precision = tp / (tp + fp)\n",
    "        recall = tp / (tp + fn)\n",
    "        \n",
    "        # compute F1 score\n",
    "        f1 = (2 * precision * recall) / (precision + recall)\n",
    "        \n",
    "        # update best f1 and best epsilon, if it applies\n",
    "        if f1 > best_f1:\n",
    "            best_f1 = f1\n",
    "            epsilon = e\n",
    "            \n",
    "    return epsilon"
   ]
  },
  {
   "cell_type": "markdown",
   "metadata": {},
   "source": [
    "## Anomaly detection in simple data set\n",
    "\n",
    "In this first exercise we have 307 samples with features of throughput (mb/s) and latency (ms). This simple 2D dataset will help us understand how the AD algorithm works."
   ]
  },
  {
   "cell_type": "code",
   "execution_count": 297,
   "metadata": {
    "collapsed": false
   },
   "outputs": [
    {
     "data": {
      "text/plain": [
       "(307, 2)"
      ]
     },
     "execution_count": 297,
     "metadata": {},
     "output_type": "execute_result"
    }
   ],
   "source": [
    "# load (unlabeled) data\n",
    "X = loadmat('ex8data1.mat')['X']\n",
    "X.shape"
   ]
  },
  {
   "cell_type": "code",
   "execution_count": 298,
   "metadata": {
    "collapsed": false
   },
   "outputs": [
    {
     "name": "stdout",
     "output_type": "stream",
     "text": [
      "(307, 2)\n",
      "(307, 1)\n"
     ]
    }
   ],
   "source": [
    "# load (labeled) validation data (used to compute F1 score ans select the threshold value)\n",
    "X_val = loadmat('ex8data1.mat')['Xval']\n",
    "print(X_val.shape)\n",
    "y_val = loadmat('ex8data1.mat')['yval']\n",
    "print(y_val.shape)"
   ]
  },
  {
   "cell_type": "code",
   "execution_count": 299,
   "metadata": {
    "collapsed": false
   },
   "outputs": [
    {
     "data": {
      "text/plain": [
       "<matplotlib.collections.PathCollection at 0x11c61e400>"
      ]
     },
     "execution_count": 299,
     "metadata": {},
     "output_type": "execute_result"
    },
    {
     "data": {
      "image/png": "[encoded data removed]",
      "text/plain": [
       "<matplotlib.figure.Figure at 0x11c3202e8>"
      ]
     },
     "metadata": {},
     "output_type": "display_data"
    }
   ],
   "source": [
    "# Visually explore the data\n",
    "fig, ax = plt.subplots(figsize=(6,4))\n",
    "ax.scatter(X[:,0], X[:,1])"
   ]
  },
  {
   "cell_type": "markdown",
   "metadata": {},
   "source": [
    "There are clearly some anomalous servers..."
   ]
  },
  {
   "cell_type": "code",
   "execution_count": 300,
   "metadata": {
    "collapsed": false
   },
   "outputs": [],
   "source": [
    "# estimate the gaussian parameters\n",
    "mu, sigma2 = estimate_gaussian_params(X)"
   ]
  },
  {
   "cell_type": "code",
   "execution_count": 303,
   "metadata": {
    "collapsed": false
   },
   "outputs": [],
   "source": [
    "# compute the gaussian value of each feature for each sample (probabilities p(x1), p(x2),... )\n",
    "gaussian_probabilities = compute_gaussian_probabilities(X, mu, sigma2)\n",
    "gaussian_probabilities_val = compute_gaussian_probabilities(X_val, mu, sigma2)"
   ]
  },
  {
   "cell_type": "code",
   "execution_count": 304,
   "metadata": {
    "collapsed": false
   },
   "outputs": [
    {
     "data": {
      "text/plain": [
       "0.00045713740891134883"
      ]
     },
     "execution_count": 304,
     "metadata": {},
     "output_type": "execute_result"
    }
   ],
   "source": [
    "# compute epsilon threshold\n",
    "epsilon = select_threshold(gaussian_probabilities_val, y_val)\n",
    "epsilon"
   ]
  },
  {
   "cell_type": "code",
   "execution_count": 305,
   "metadata": {
    "collapsed": false
   },
   "outputs": [
    {
     "data": {
      "text/plain": [
       "<matplotlib.collections.PathCollection at 0x11c73aba8>"
      ]
     },
     "execution_count": 305,
     "metadata": {},
     "output_type": "execute_result"
    },
    {
     "data": {
      "image/png": "[encoded data removed]",
      "text/plain": [
       "<matplotlib.figure.Figure at 0x11c300b00>"
      ]
     },
     "metadata": {},
     "output_type": "display_data"
    }
   ],
   "source": [
    "# get anomalies and plot them\n",
    "anomalies = np.where(gaussian_probabilities < epsilon)\n",
    "fig, ax = plt.subplots(figsize=(6,4))\n",
    "ax.scatter(X[:,0], X[:,1])\n",
    "ax.scatter(X[anomalies[0],0], X[anomalies[0],1], s=50, color='r', marker='o')"
   ]
  },
  {
   "cell_type": "markdown",
   "metadata": {},
   "source": [
    "## Anomaly detection in complex data set\n",
    "\n",
    "In this second exercise we have 1000 samples with 11 features."
   ]
  },
  {
   "cell_type": "code",
   "execution_count": 306,
   "metadata": {
    "collapsed": false
   },
   "outputs": [
    {
     "data": {
      "text/plain": [
       "(1000, 11)"
      ]
     },
     "execution_count": 306,
     "metadata": {},
     "output_type": "execute_result"
    }
   ],
   "source": [
    "# load (unlabeled) data\n",
    "X = loadmat('ex8data2.mat')['X']\n",
    "X.shape"
   ]
  },
  {
   "cell_type": "code",
   "execution_count": 307,
   "metadata": {
    "collapsed": false
   },
   "outputs": [
    {
     "name": "stdout",
     "output_type": "stream",
     "text": [
      "(100, 11)\n",
      "(100, 1)\n"
     ]
    }
   ],
   "source": [
    "# load (labeled) validation data (used to compute F1 score ans select the threshold value)\n",
    "X_val = loadmat('ex8data2.mat')['Xval']\n",
    "print(X_val.shape)\n",
    "y_val = loadmat('ex8data2.mat')['yval']\n",
    "print(y_val.shape)"
   ]
  },
  {
   "cell_type": "code",
   "execution_count": 308,
   "metadata": {
    "collapsed": false
   },
   "outputs": [],
   "source": [
    "# estimate the gaussian parameters\n",
    "mu, sigma = estimate_gaussian_params(X)"
   ]
  },
  {
   "cell_type": "code",
   "execution_count": 309,
   "metadata": {
    "collapsed": false
   },
   "outputs": [],
   "source": [
    "# compute the gaussian value of each feature for each sample (probabilities p(x1), p(x2),... )\n",
    "gaussian_probabilities = compute_gaussian_probabilities(X, mu, sigma)\n",
    "gaussian_probabilities_val = compute_gaussian_probabilities(X_val, mu, sigma)"
   ]
  },
  {
   "cell_type": "code",
   "execution_count": 310,
   "metadata": {
    "collapsed": false
   },
   "outputs": [
    {
     "data": {
      "text/plain": [
       "7.1428233069041263e-25"
      ]
     },
     "execution_count": 310,
     "metadata": {},
     "output_type": "execute_result"
    }
   ],
   "source": [
    "# compute epsilon threshold\n",
    "epsilon = select_threshold(gaussian_probabilities_val, y_val)\n",
    "epsilon"
   ]
  },
  {
   "cell_type": "code",
   "execution_count": 318,
   "metadata": {
    "collapsed": false
   },
   "outputs": [
    {
     "name": "stdout",
     "output_type": "stream",
     "text": [
      "num anomalies:  55\n"
     ]
    }
   ],
   "source": [
    "# get the anomalies and count them\n",
    "anomalies = np.where(gaussian_probabilities < epsilon)\n",
    "print('num anomalies: ', len(anomalies[0]))"
   ]
  },
  {
   "cell_type": "code",
   "execution_count": null,
   "metadata": {
    "collapsed": true
   },
   "outputs": [],
   "source": []
  }
 ],
 "metadata": {
  "kernelspec": {
   "display_name": "Python [conda root]",
   "language": "python",
   "name": "conda-root-py"
  },
  "language_info": {
   "codemirror_mode": {
    "name": "ipython",
    "version": 3
   },
   "file_extension": ".py",
   "mimetype": "text/x-python",
   "name": "python",
   "nbconvert_exporter": "python",
   "pygments_lexer": "ipython3",
   "version": "3.5.2"
  }
 },
 "nbformat": 4,
 "nbformat_minor": 1
}
