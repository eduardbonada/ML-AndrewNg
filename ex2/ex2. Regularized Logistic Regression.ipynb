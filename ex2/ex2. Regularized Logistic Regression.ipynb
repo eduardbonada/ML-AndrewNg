{
 "cells": [
  {
   "cell_type": "markdown",
   "metadata": {},
   "source": [
    "# Regularized Logistic Regression\n",
    "\n",
    "This notebook contains the second part of Programming Exercise 2 of the Andrew Ng's course on Coursera.\n",
    "\n",
    "Implement a classification model using Regularized Logistic Regression to predict whether a chip is accepted or not. We will make the decision based on the score obtained in two tests. We have historical data about the score of other chips in such two tests and whether they were accepted or not."
   ]
  },
  {
   "cell_type": "code",
   "execution_count": 115,
   "metadata": {
    "collapsed": true
   },
   "outputs": [],
   "source": [
    "import numpy as np\n",
    "import pandas as pd\n",
    "import matplotlib.pyplot as plt\n",
    "%matplotlib inline"
   ]
  },
  {
   "cell_type": "code",
   "execution_count": 216,
   "metadata": {
    "collapsed": true
   },
   "outputs": [],
   "source": [
    "# load data\n",
    "import os\n",
    "data_original = pd.read_csv(os.getcwd() + '/ex2data2.txt', header=None, names=['Test 1', 'Test 2', 'Accepted'])"
   ]
  },
  {
   "cell_type": "markdown",
   "metadata": {},
   "source": [
    "### Explore data"
   ]
  },
  {
   "cell_type": "code",
   "execution_count": 217,
   "metadata": {
    "collapsed": false
   },
   "outputs": [
    {
     "data": {
      "text/html": [
       "<div>\n",
       "<table border=\"1\" class=\"dataframe\">\n",
       "  <thead>\n",
       "    <tr style=\"text-align: right;\">\n",
       "      <th></th>\n",
       "      <th>Test 1</th>\n",
       "      <th>Test 2</th>\n",
       "      <th>Accepted</th>\n",
       "    </tr>\n",
       "  </thead>\n",
       "  <tbody>\n",
       "    <tr>\n",
       "      <th>0</th>\n",
       "      <td>0.051267</td>\n",
       "      <td>0.69956</td>\n",
       "      <td>1</td>\n",
       "    </tr>\n",
       "    <tr>\n",
       "      <th>1</th>\n",
       "      <td>-0.092742</td>\n",
       "      <td>0.68494</td>\n",
       "      <td>1</td>\n",
       "    </tr>\n",
       "    <tr>\n",
       "      <th>2</th>\n",
       "      <td>-0.213710</td>\n",
       "      <td>0.69225</td>\n",
       "      <td>1</td>\n",
       "    </tr>\n",
       "    <tr>\n",
       "      <th>3</th>\n",
       "      <td>-0.375000</td>\n",
       "      <td>0.50219</td>\n",
       "      <td>1</td>\n",
       "    </tr>\n",
       "    <tr>\n",
       "      <th>4</th>\n",
       "      <td>-0.513250</td>\n",
       "      <td>0.46564</td>\n",
       "      <td>1</td>\n",
       "    </tr>\n",
       "  </tbody>\n",
       "</table>\n",
       "</div>"
      ],
      "text/plain": [
       "     Test 1   Test 2  Accepted\n",
       "0  0.051267  0.69956         1\n",
       "1 -0.092742  0.68494         1\n",
       "2 -0.213710  0.69225         1\n",
       "3 -0.375000  0.50219         1\n",
       "4 -0.513250  0.46564         1"
      ]
     },
     "execution_count": 217,
     "metadata": {},
     "output_type": "execute_result"
    }
   ],
   "source": [
    "data_original.head()"
   ]
  },
  {
   "cell_type": "code",
   "execution_count": 218,
   "metadata": {
    "collapsed": false
   },
   "outputs": [
    {
     "data": {
      "text/html": [
       "<div>\n",
       "<table border=\"1\" class=\"dataframe\">\n",
       "  <thead>\n",
       "    <tr style=\"text-align: right;\">\n",
       "      <th></th>\n",
       "      <th>Test 1</th>\n",
       "      <th>Test 2</th>\n",
       "      <th>Accepted</th>\n",
       "    </tr>\n",
       "  </thead>\n",
       "  <tbody>\n",
       "    <tr>\n",
       "      <th>count</th>\n",
       "      <td>118.000000</td>\n",
       "      <td>118.000000</td>\n",
       "      <td>118.000000</td>\n",
       "    </tr>\n",
       "    <tr>\n",
       "      <th>mean</th>\n",
       "      <td>0.054779</td>\n",
       "      <td>0.183102</td>\n",
       "      <td>0.491525</td>\n",
       "    </tr>\n",
       "    <tr>\n",
       "      <th>std</th>\n",
       "      <td>0.496654</td>\n",
       "      <td>0.519743</td>\n",
       "      <td>0.502060</td>\n",
       "    </tr>\n",
       "    <tr>\n",
       "      <th>min</th>\n",
       "      <td>-0.830070</td>\n",
       "      <td>-0.769740</td>\n",
       "      <td>0.000000</td>\n",
       "    </tr>\n",
       "    <tr>\n",
       "      <th>25%</th>\n",
       "      <td>-0.372120</td>\n",
       "      <td>-0.254385</td>\n",
       "      <td>0.000000</td>\n",
       "    </tr>\n",
       "    <tr>\n",
       "      <th>50%</th>\n",
       "      <td>-0.006336</td>\n",
       "      <td>0.213455</td>\n",
       "      <td>0.000000</td>\n",
       "    </tr>\n",
       "    <tr>\n",
       "      <th>75%</th>\n",
       "      <td>0.478970</td>\n",
       "      <td>0.646562</td>\n",
       "      <td>1.000000</td>\n",
       "    </tr>\n",
       "    <tr>\n",
       "      <th>max</th>\n",
       "      <td>1.070900</td>\n",
       "      <td>1.108900</td>\n",
       "      <td>1.000000</td>\n",
       "    </tr>\n",
       "  </tbody>\n",
       "</table>\n",
       "</div>"
      ],
      "text/plain": [
       "           Test 1      Test 2    Accepted\n",
       "count  118.000000  118.000000  118.000000\n",
       "mean     0.054779    0.183102    0.491525\n",
       "std      0.496654    0.519743    0.502060\n",
       "min     -0.830070   -0.769740    0.000000\n",
       "25%     -0.372120   -0.254385    0.000000\n",
       "50%     -0.006336    0.213455    0.000000\n",
       "75%      0.478970    0.646562    1.000000\n",
       "max      1.070900    1.108900    1.000000"
      ]
     },
     "execution_count": 218,
     "metadata": {},
     "output_type": "execute_result"
    }
   ],
   "source": [
    "data_original.describe()"
   ]
  },
  {
   "cell_type": "code",
   "execution_count": 219,
   "metadata": {
    "collapsed": false
   },
   "outputs": [
    {
     "data": {
      "text/plain": [
       "array([[<matplotlib.axes._subplots.AxesSubplot object at 0x119f6a908>,\n",
       "        <matplotlib.axes._subplots.AxesSubplot object at 0x11a4a2be0>],\n",
       "       [<matplotlib.axes._subplots.AxesSubplot object at 0x11a4e2208>,\n",
       "        <matplotlib.axes._subplots.AxesSubplot object at 0x11a52e630>]], dtype=object)"
      ]
     },
     "execution_count": 219,
     "metadata": {},
     "output_type": "execute_result"
    },
    {
     "data": {
      "image/png": "[encoded data removed]",
      "text/plain": [
       "<matplotlib.figure.Figure at 0x119f76d30>"
      ]
     },
     "metadata": {},
     "output_type": "display_data"
    }
   ],
   "source": [
    "data_original.hist()"
   ]
  },
  {
   "cell_type": "code",
   "execution_count": 220,
   "metadata": {
    "collapsed": false
   },
   "outputs": [],
   "source": [
    "# let's separate the two types of classes and explore them separatedly\n",
    "accepted = data_original[data_original['Accepted']==1]\n",
    "rejected = data_original[data_original['Accepted']==0]"
   ]
  },
  {
   "cell_type": "code",
   "execution_count": 221,
   "metadata": {
    "collapsed": false
   },
   "outputs": [
    {
     "data": {
      "text/plain": [
       "array([[<matplotlib.axes._subplots.AxesSubplot object at 0x11a599160>,\n",
       "        <matplotlib.axes._subplots.AxesSubplot object at 0x11a7d8c50>],\n",
       "       [<matplotlib.axes._subplots.AxesSubplot object at 0x11a89de80>,\n",
       "        <matplotlib.axes._subplots.AxesSubplot object at 0x11a8d7438>]], dtype=object)"
      ]
     },
     "execution_count": 221,
     "metadata": {},
     "output_type": "execute_result"
    },
    {
     "data": {
      "image/png": "[encoded data removed]",
      "text/plain": [
       "<matplotlib.figure.Figure at 0x11a574748>"
      ]
     },
     "metadata": {},
     "output_type": "display_data"
    }
   ],
   "source": [
    "accepted.hist()"
   ]
  },
  {
   "cell_type": "code",
   "execution_count": 222,
   "metadata": {
    "collapsed": false
   },
   "outputs": [
    {
     "data": {
      "text/plain": [
       "array([[<matplotlib.axes._subplots.AxesSubplot object at 0x11a8ad828>,\n",
       "        <matplotlib.axes._subplots.AxesSubplot object at 0x11ad0c128>],\n",
       "       [<matplotlib.axes._subplots.AxesSubplot object at 0x11ad91278>,\n",
       "        <matplotlib.axes._subplots.AxesSubplot object at 0x11adcd3c8>]], dtype=object)"
      ]
     },
     "execution_count": 222,
     "metadata": {},
     "output_type": "execute_result"
    },
    {
     "data": {
      "image/png": "[encoded data removed]",
      "text/plain": [
       "<matplotlib.figure.Figure at 0x11a929c88>"
      ]
     },
     "metadata": {},
     "output_type": "display_data"
    }
   ],
   "source": [
    "rejected.hist()"
   ]
  },
  {
   "cell_type": "code",
   "execution_count": 223,
   "metadata": {
    "collapsed": false
   },
   "outputs": [
    {
     "data": {
      "text/plain": [
       "<matplotlib.text.Text at 0x11ae7c0b8>"
      ]
     },
     "execution_count": 223,
     "metadata": {},
     "output_type": "execute_result"
    },
    {
     "data": {
      "image/png": "[encoded data removed]",
      "text/plain": [
       "<matplotlib.figure.Figure at 0x11ae62c88>"
      ]
     },
     "metadata": {},
     "output_type": "display_data"
    }
   ],
   "source": [
    "# scatter plot to visualize the data\n",
    "fig, ax = plt.subplots(figsize=(12,8))\n",
    "ax.scatter(accepted['Test 1'], accepted['Test 2'], s=80, c='g', marker='o', label='Accepted')\n",
    "ax.scatter(rejected['Test 1'], rejected['Test 2'], s=80, c='r', marker='x', label='Rejected')\n",
    "ax.legend()\n",
    "ax.set_xlabel('Test 1 Score')\n",
    "ax.set_ylabel('Test 2 Score')"
   ]
  },
  {
   "cell_type": "markdown",
   "metadata": {},
   "source": [
    "This scatter plot indicates that there is no a clear linear decision boundary that will work well on this data and hence a linear Logisitic Regression model will not be a good classifier. "
   ]
  },
  {
   "cell_type": "markdown",
   "metadata": {},
   "source": [
    "## Feature engineering\n",
    "\n",
    "We will have to to use a more complex model with additional features created from polynomials of the original features.\n",
    "\n",
    "[x1, x2, x1^2, x1 * x2, x2^2, x1^3, x1^2 * x2, x1 * x2^2, x2^3 ... x1^6, x1^5 * x2, x1^4 * x2^2, x1^3 * x2^3, x1^2 * x2^4, x1 * x2^5, x2^6]\n"
   ]
  },
  {
   "cell_type": "code",
   "execution_count": 548,
   "metadata": {
    "collapsed": true
   },
   "outputs": [],
   "source": [
    "data = data_original.copy()"
   ]
  },
  {
   "cell_type": "code",
   "execution_count": 549,
   "metadata": {
    "collapsed": false
   },
   "outputs": [
    {
     "data": {
      "text/html": [
       "<div>\n",
       "<table border=\"1\" class=\"dataframe\">\n",
       "  <thead>\n",
       "    <tr style=\"text-align: right;\">\n",
       "      <th></th>\n",
       "      <th>Accepted</th>\n",
       "    </tr>\n",
       "  </thead>\n",
       "  <tbody>\n",
       "    <tr>\n",
       "      <th>0</th>\n",
       "      <td>1</td>\n",
       "    </tr>\n",
       "    <tr>\n",
       "      <th>1</th>\n",
       "      <td>1</td>\n",
       "    </tr>\n",
       "    <tr>\n",
       "      <th>2</th>\n",
       "      <td>1</td>\n",
       "    </tr>\n",
       "    <tr>\n",
       "      <th>3</th>\n",
       "      <td>1</td>\n",
       "    </tr>\n",
       "    <tr>\n",
       "      <th>4</th>\n",
       "      <td>1</td>\n",
       "    </tr>\n",
       "  </tbody>\n",
       "</table>\n",
       "</div>"
      ],
      "text/plain": [
       "   Accepted\n",
       "0         1\n",
       "1         1\n",
       "2         1\n",
       "3         1\n",
       "4         1"
      ]
     },
     "execution_count": 549,
     "metadata": {},
     "output_type": "execute_result"
    }
   ],
   "source": [
    "data.drop('Test 1', axis=1, inplace=True)\n",
    "data.drop('Test 2', axis=1, inplace=True)\n",
    "data.head()"
   ]
  },
  {
   "cell_type": "code",
   "execution_count": 550,
   "metadata": {
    "collapsed": false
   },
   "outputs": [
    {
     "data": {
      "text/plain": [
       "Index(['Accepted', 'Ones', 'F10', 'F11', 'F20', 'F21', 'F22', 'F30', 'F31',\n",
       "       'F32', 'F33', 'F40', 'F41', 'F42', 'F43', 'F44', 'F50', 'F51', 'F52',\n",
       "       'F53', 'F54', 'F55', 'F60', 'F61', 'F62', 'F63', 'F64', 'F65', 'F66',\n",
       "       'F70', 'F71', 'F72', 'F73', 'F74', 'F75', 'F76', 'F77', 'F80', 'F81',\n",
       "       'F82', 'F83', 'F84', 'F85', 'F86', 'F87', 'F88', 'F90', 'F91', 'F92',\n",
       "       'F93', 'F94', 'F95', 'F96', 'F97', 'F98', 'F99', 'F100', 'F101', 'F102',\n",
       "       'F103', 'F104', 'F105', 'F106', 'F107', 'F108', 'F109', 'F1010'],\n",
       "      dtype='object')"
      ]
     },
     "execution_count": 550,
     "metadata": {},
     "output_type": "execute_result"
    }
   ],
   "source": [
    "# create the polynomial features as Fxy\n",
    "degree = 10\n",
    "for i in range(1, degree+1):\n",
    "    for j in range(0, i+1):\n",
    "        data['F' + str(i) + str(j)] = np.power(data_original['Test 1'], i-j) * np.power(data_original['Test 2'], j)\n",
    "data.insert(1, 'Ones', 1)\n",
    "data.columns"
   ]
  },
  {
   "cell_type": "code",
   "execution_count": 551,
   "metadata": {
    "collapsed": false
   },
   "outputs": [
    {
     "data": {
      "text/html": [
       "<div>\n",
       "<table border=\"1\" class=\"dataframe\">\n",
       "  <thead>\n",
       "    <tr style=\"text-align: right;\">\n",
       "      <th></th>\n",
       "      <th>Accepted</th>\n",
       "      <th>Ones</th>\n",
       "      <th>F10</th>\n",
       "      <th>F11</th>\n",
       "      <th>F20</th>\n",
       "      <th>F21</th>\n",
       "      <th>F22</th>\n",
       "      <th>F30</th>\n",
       "      <th>F31</th>\n",
       "      <th>F32</th>\n",
       "      <th>...</th>\n",
       "      <th>F101</th>\n",
       "      <th>F102</th>\n",
       "      <th>F103</th>\n",
       "      <th>F104</th>\n",
       "      <th>F105</th>\n",
       "      <th>F106</th>\n",
       "      <th>F107</th>\n",
       "      <th>F108</th>\n",
       "      <th>F109</th>\n",
       "      <th>F1010</th>\n",
       "    </tr>\n",
       "  </thead>\n",
       "  <tbody>\n",
       "    <tr>\n",
       "      <th>0</th>\n",
       "      <td>1</td>\n",
       "      <td>1</td>\n",
       "      <td>0.051267</td>\n",
       "      <td>0.69956</td>\n",
       "      <td>0.002628</td>\n",
       "      <td>0.035864</td>\n",
       "      <td>0.489384</td>\n",
       "      <td>0.000135</td>\n",
       "      <td>0.001839</td>\n",
       "      <td>0.025089</td>\n",
       "      <td>...</td>\n",
       "      <td>1.711457e-12</td>\n",
       "      <td>2.335356e-11</td>\n",
       "      <td>3.186693e-10</td>\n",
       "      <td>4.348378e-09</td>\n",
       "      <td>5.933547e-08</td>\n",
       "      <td>8.096577e-07</td>\n",
       "      <td>0.000011</td>\n",
       "      <td>0.000151</td>\n",
       "      <td>0.002057</td>\n",
       "      <td>0.028070</td>\n",
       "    </tr>\n",
       "    <tr>\n",
       "      <th>1</th>\n",
       "      <td>1</td>\n",
       "      <td>1</td>\n",
       "      <td>-0.092742</td>\n",
       "      <td>0.68494</td>\n",
       "      <td>0.008601</td>\n",
       "      <td>-0.063523</td>\n",
       "      <td>0.469143</td>\n",
       "      <td>-0.000798</td>\n",
       "      <td>0.005891</td>\n",
       "      <td>-0.043509</td>\n",
       "      <td>...</td>\n",
       "      <td>-3.476487e-10</td>\n",
       "      <td>2.567537e-09</td>\n",
       "      <td>-1.896238e-08</td>\n",
       "      <td>1.400454e-07</td>\n",
       "      <td>-1.034296e-06</td>\n",
       "      <td>7.638727e-06</td>\n",
       "      <td>-0.000056</td>\n",
       "      <td>0.000417</td>\n",
       "      <td>-0.003077</td>\n",
       "      <td>0.022726</td>\n",
       "    </tr>\n",
       "    <tr>\n",
       "      <th>2</th>\n",
       "      <td>1</td>\n",
       "      <td>1</td>\n",
       "      <td>-0.213710</td>\n",
       "      <td>0.69225</td>\n",
       "      <td>0.045672</td>\n",
       "      <td>-0.147941</td>\n",
       "      <td>0.479210</td>\n",
       "      <td>-0.009761</td>\n",
       "      <td>0.031616</td>\n",
       "      <td>-0.102412</td>\n",
       "      <td>...</td>\n",
       "      <td>-6.437045e-07</td>\n",
       "      <td>2.085089e-06</td>\n",
       "      <td>-6.754027e-06</td>\n",
       "      <td>2.187766e-05</td>\n",
       "      <td>-7.086618e-05</td>\n",
       "      <td>2.295499e-04</td>\n",
       "      <td>-0.000744</td>\n",
       "      <td>0.002409</td>\n",
       "      <td>-0.007802</td>\n",
       "      <td>0.025271</td>\n",
       "    </tr>\n",
       "    <tr>\n",
       "      <th>3</th>\n",
       "      <td>1</td>\n",
       "      <td>1</td>\n",
       "      <td>-0.375000</td>\n",
       "      <td>0.50219</td>\n",
       "      <td>0.140625</td>\n",
       "      <td>-0.188321</td>\n",
       "      <td>0.252195</td>\n",
       "      <td>-0.052734</td>\n",
       "      <td>0.070620</td>\n",
       "      <td>-0.094573</td>\n",
       "      <td>...</td>\n",
       "      <td>-7.364605e-05</td>\n",
       "      <td>9.862483e-05</td>\n",
       "      <td>-1.320757e-04</td>\n",
       "      <td>1.768723e-04</td>\n",
       "      <td>-2.368627e-04</td>\n",
       "      <td>3.172002e-04</td>\n",
       "      <td>-0.000425</td>\n",
       "      <td>0.000569</td>\n",
       "      <td>-0.000762</td>\n",
       "      <td>0.001020</td>\n",
       "    </tr>\n",
       "    <tr>\n",
       "      <th>4</th>\n",
       "      <td>1</td>\n",
       "      <td>1</td>\n",
       "      <td>-0.513250</td>\n",
       "      <td>0.46564</td>\n",
       "      <td>0.263426</td>\n",
       "      <td>-0.238990</td>\n",
       "      <td>0.216821</td>\n",
       "      <td>-0.135203</td>\n",
       "      <td>0.122661</td>\n",
       "      <td>-0.111283</td>\n",
       "      <td>...</td>\n",
       "      <td>-1.150829e-03</td>\n",
       "      <td>1.044076e-03</td>\n",
       "      <td>-9.472259e-04</td>\n",
       "      <td>8.593595e-04</td>\n",
       "      <td>-7.796437e-04</td>\n",
       "      <td>7.073226e-04</td>\n",
       "      <td>-0.000642</td>\n",
       "      <td>0.000582</td>\n",
       "      <td>-0.000528</td>\n",
       "      <td>0.000479</td>\n",
       "    </tr>\n",
       "  </tbody>\n",
       "</table>\n",
       "<p>5 rows × 67 columns</p>\n",
       "</div>"
      ],
      "text/plain": [
       "   Accepted  Ones       F10      F11       F20       F21       F22       F30  \\\n",
       "0         1     1  0.051267  0.69956  0.002628  0.035864  0.489384  0.000135   \n",
       "1         1     1 -0.092742  0.68494  0.008601 -0.063523  0.469143 -0.000798   \n",
       "2         1     1 -0.213710  0.69225  0.045672 -0.147941  0.479210 -0.009761   \n",
       "3         1     1 -0.375000  0.50219  0.140625 -0.188321  0.252195 -0.052734   \n",
       "4         1     1 -0.513250  0.46564  0.263426 -0.238990  0.216821 -0.135203   \n",
       "\n",
       "        F31       F32    ...             F101          F102          F103  \\\n",
       "0  0.001839  0.025089    ...     1.711457e-12  2.335356e-11  3.186693e-10   \n",
       "1  0.005891 -0.043509    ...    -3.476487e-10  2.567537e-09 -1.896238e-08   \n",
       "2  0.031616 -0.102412    ...    -6.437045e-07  2.085089e-06 -6.754027e-06   \n",
       "3  0.070620 -0.094573    ...    -7.364605e-05  9.862483e-05 -1.320757e-04   \n",
       "4  0.122661 -0.111283    ...    -1.150829e-03  1.044076e-03 -9.472259e-04   \n",
       "\n",
       "           F104          F105          F106      F107      F108      F109  \\\n",
       "0  4.348378e-09  5.933547e-08  8.096577e-07  0.000011  0.000151  0.002057   \n",
       "1  1.400454e-07 -1.034296e-06  7.638727e-06 -0.000056  0.000417 -0.003077   \n",
       "2  2.187766e-05 -7.086618e-05  2.295499e-04 -0.000744  0.002409 -0.007802   \n",
       "3  1.768723e-04 -2.368627e-04  3.172002e-04 -0.000425  0.000569 -0.000762   \n",
       "4  8.593595e-04 -7.796437e-04  7.073226e-04 -0.000642  0.000582 -0.000528   \n",
       "\n",
       "      F1010  \n",
       "0  0.028070  \n",
       "1  0.022726  \n",
       "2  0.025271  \n",
       "3  0.001020  \n",
       "4  0.000479  \n",
       "\n",
       "[5 rows x 67 columns]"
      ]
     },
     "execution_count": 551,
     "metadata": {},
     "output_type": "execute_result"
    }
   ],
   "source": [
    "data.head()"
   ]
  },
  {
   "cell_type": "code",
   "execution_count": 552,
   "metadata": {
    "collapsed": false
   },
   "outputs": [
    {
     "data": {
      "text/html": [
       "<div>\n",
       "<table border=\"1\" class=\"dataframe\">\n",
       "  <thead>\n",
       "    <tr style=\"text-align: right;\">\n",
       "      <th></th>\n",
       "      <th>Accepted</th>\n",
       "      <th>Ones</th>\n",
       "      <th>F10</th>\n",
       "      <th>F11</th>\n",
       "      <th>F20</th>\n",
       "      <th>F21</th>\n",
       "      <th>F22</th>\n",
       "      <th>F30</th>\n",
       "      <th>F31</th>\n",
       "      <th>F32</th>\n",
       "      <th>...</th>\n",
       "      <th>F101</th>\n",
       "      <th>F102</th>\n",
       "      <th>F103</th>\n",
       "      <th>F104</th>\n",
       "      <th>F105</th>\n",
       "      <th>F106</th>\n",
       "      <th>F107</th>\n",
       "      <th>F108</th>\n",
       "      <th>F109</th>\n",
       "      <th>F1010</th>\n",
       "    </tr>\n",
       "  </thead>\n",
       "  <tbody>\n",
       "    <tr>\n",
       "      <th>count</th>\n",
       "      <td>118.000000</td>\n",
       "      <td>118.0</td>\n",
       "      <td>118.000000</td>\n",
       "      <td>118.000000</td>\n",
       "      <td>118.000000</td>\n",
       "      <td>118.000000</td>\n",
       "      <td>118.000000</td>\n",
       "      <td>1.180000e+02</td>\n",
       "      <td>118.000000</td>\n",
       "      <td>118.000000</td>\n",
       "      <td>...</td>\n",
       "      <td>1.180000e+02</td>\n",
       "      <td>1.180000e+02</td>\n",
       "      <td>1.180000e+02</td>\n",
       "      <td>1.180000e+02</td>\n",
       "      <td>1.180000e+02</td>\n",
       "      <td>1.180000e+02</td>\n",
       "      <td>1.180000e+02</td>\n",
       "      <td>1.180000e+02</td>\n",
       "      <td>1.180000e+02</td>\n",
       "      <td>1.180000e+02</td>\n",
       "    </tr>\n",
       "    <tr>\n",
       "      <th>mean</th>\n",
       "      <td>0.491525</td>\n",
       "      <td>1.0</td>\n",
       "      <td>0.054779</td>\n",
       "      <td>0.183102</td>\n",
       "      <td>0.247575</td>\n",
       "      <td>-0.025472</td>\n",
       "      <td>0.301370</td>\n",
       "      <td>5.983333e-02</td>\n",
       "      <td>0.030682</td>\n",
       "      <td>0.015483</td>\n",
       "      <td>...</td>\n",
       "      <td>1.666277e-03</td>\n",
       "      <td>5.318746e-03</td>\n",
       "      <td>1.034778e-04</td>\n",
       "      <td>3.040300e-03</td>\n",
       "      <td>6.883363e-05</td>\n",
       "      <td>3.728850e-03</td>\n",
       "      <td>-5.005615e-04</td>\n",
       "      <td>9.919896e-03</td>\n",
       "      <td>-3.464200e-03</td>\n",
       "      <td>1.020867e-01</td>\n",
       "    </tr>\n",
       "    <tr>\n",
       "      <th>std</th>\n",
       "      <td>0.502060</td>\n",
       "      <td>0.0</td>\n",
       "      <td>0.496654</td>\n",
       "      <td>0.519743</td>\n",
       "      <td>0.248532</td>\n",
       "      <td>0.224075</td>\n",
       "      <td>0.284536</td>\n",
       "      <td>2.746459e-01</td>\n",
       "      <td>0.134706</td>\n",
       "      <td>0.150143</td>\n",
       "      <td>...</td>\n",
       "      <td>3.270108e-02</td>\n",
       "      <td>1.401976e-02</td>\n",
       "      <td>1.037912e-02</td>\n",
       "      <td>8.199982e-03</td>\n",
       "      <td>8.999227e-03</td>\n",
       "      <td>1.086785e-02</td>\n",
       "      <td>1.787292e-02</td>\n",
       "      <td>3.239311e-02</td>\n",
       "      <td>8.460621e-02</td>\n",
       "      <td>3.722619e-01</td>\n",
       "    </tr>\n",
       "    <tr>\n",
       "      <th>min</th>\n",
       "      <td>0.000000</td>\n",
       "      <td>1.0</td>\n",
       "      <td>-0.830070</td>\n",
       "      <td>-0.769740</td>\n",
       "      <td>0.000040</td>\n",
       "      <td>-0.484096</td>\n",
       "      <td>0.000026</td>\n",
       "      <td>-5.719317e-01</td>\n",
       "      <td>-0.358121</td>\n",
       "      <td>-0.483743</td>\n",
       "      <td>...</td>\n",
       "      <td>-9.629816e-02</td>\n",
       "      <td>4.154654e-19</td>\n",
       "      <td>-3.807164e-02</td>\n",
       "      <td>1.654413e-15</td>\n",
       "      <td>-2.658637e-02</td>\n",
       "      <td>2.233143e-15</td>\n",
       "      <td>-1.131167e-01</td>\n",
       "      <td>1.657812e-19</td>\n",
       "      <td>-4.812764e-01</td>\n",
       "      <td>1.230706e-23</td>\n",
       "    </tr>\n",
       "    <tr>\n",
       "      <th>25%</th>\n",
       "      <td>0.000000</td>\n",
       "      <td>1.0</td>\n",
       "      <td>-0.372120</td>\n",
       "      <td>-0.254385</td>\n",
       "      <td>0.043243</td>\n",
       "      <td>-0.178209</td>\n",
       "      <td>0.061086</td>\n",
       "      <td>-5.155632e-02</td>\n",
       "      <td>-0.023672</td>\n",
       "      <td>-0.042980</td>\n",
       "      <td>...</td>\n",
       "      <td>-2.499491e-04</td>\n",
       "      <td>3.190712e-07</td>\n",
       "      <td>-1.292165e-04</td>\n",
       "      <td>4.926304e-07</td>\n",
       "      <td>-1.886999e-04</td>\n",
       "      <td>1.372054e-06</td>\n",
       "      <td>-3.813760e-04</td>\n",
       "      <td>1.261911e-06</td>\n",
       "      <td>-1.980744e-03</td>\n",
       "      <td>8.750001e-07</td>\n",
       "    </tr>\n",
       "    <tr>\n",
       "      <th>50%</th>\n",
       "      <td>0.000000</td>\n",
       "      <td>1.0</td>\n",
       "      <td>-0.006336</td>\n",
       "      <td>0.213455</td>\n",
       "      <td>0.165397</td>\n",
       "      <td>-0.016521</td>\n",
       "      <td>0.252195</td>\n",
       "      <td>-2.544062e-07</td>\n",
       "      <td>0.006603</td>\n",
       "      <td>-0.000039</td>\n",
       "      <td>...</td>\n",
       "      <td>-2.358636e-10</td>\n",
       "      <td>7.528015e-05</td>\n",
       "      <td>-7.169183e-09</td>\n",
       "      <td>3.952184e-05</td>\n",
       "      <td>-1.601372e-09</td>\n",
       "      <td>6.938687e-05</td>\n",
       "      <td>-4.489879e-09</td>\n",
       "      <td>2.349402e-04</td>\n",
       "      <td>-9.687178e-09</td>\n",
       "      <td>1.020189e-03</td>\n",
       "    </tr>\n",
       "    <tr>\n",
       "      <th>75%</th>\n",
       "      <td>1.000000</td>\n",
       "      <td>1.0</td>\n",
       "      <td>0.478970</td>\n",
       "      <td>0.646562</td>\n",
       "      <td>0.389925</td>\n",
       "      <td>0.100795</td>\n",
       "      <td>0.464189</td>\n",
       "      <td>1.099616e-01</td>\n",
       "      <td>0.086392</td>\n",
       "      <td>0.079510</td>\n",
       "      <td>...</td>\n",
       "      <td>1.990047e-05</td>\n",
       "      <td>2.657392e-03</td>\n",
       "      <td>1.300154e-05</td>\n",
       "      <td>1.488900e-03</td>\n",
       "      <td>1.040952e-05</td>\n",
       "      <td>1.535721e-03</td>\n",
       "      <td>1.705464e-05</td>\n",
       "      <td>3.727489e-03</td>\n",
       "      <td>2.585553e-05</td>\n",
       "      <td>2.162350e-02</td>\n",
       "    </tr>\n",
       "    <tr>\n",
       "      <th>max</th>\n",
       "      <td>1.000000</td>\n",
       "      <td>1.0</td>\n",
       "      <td>1.070900</td>\n",
       "      <td>1.108900</td>\n",
       "      <td>1.146827</td>\n",
       "      <td>0.568307</td>\n",
       "      <td>1.229659</td>\n",
       "      <td>1.228137e+00</td>\n",
       "      <td>0.449251</td>\n",
       "      <td>0.505577</td>\n",
       "      <td>...</td>\n",
       "      <td>1.855202e-01</td>\n",
       "      <td>9.266468e-02</td>\n",
       "      <td>7.463629e-02</td>\n",
       "      <td>6.011542e-02</td>\n",
       "      <td>5.928096e-02</td>\n",
       "      <td>8.255459e-02</td>\n",
       "      <td>1.149654e-01</td>\n",
       "      <td>2.333247e-01</td>\n",
       "      <td>6.089941e-01</td>\n",
       "      <td>2.811408e+00</td>\n",
       "    </tr>\n",
       "  </tbody>\n",
       "</table>\n",
       "<p>8 rows × 67 columns</p>\n",
       "</div>"
      ],
      "text/plain": [
       "         Accepted   Ones         F10         F11         F20         F21  \\\n",
       "count  118.000000  118.0  118.000000  118.000000  118.000000  118.000000   \n",
       "mean     0.491525    1.0    0.054779    0.183102    0.247575   -0.025472   \n",
       "std      0.502060    0.0    0.496654    0.519743    0.248532    0.224075   \n",
       "min      0.000000    1.0   -0.830070   -0.769740    0.000040   -0.484096   \n",
       "25%      0.000000    1.0   -0.372120   -0.254385    0.043243   -0.178209   \n",
       "50%      0.000000    1.0   -0.006336    0.213455    0.165397   -0.016521   \n",
       "75%      1.000000    1.0    0.478970    0.646562    0.389925    0.100795   \n",
       "max      1.000000    1.0    1.070900    1.108900    1.146827    0.568307   \n",
       "\n",
       "              F22           F30         F31         F32      ...       \\\n",
       "count  118.000000  1.180000e+02  118.000000  118.000000      ...        \n",
       "mean     0.301370  5.983333e-02    0.030682    0.015483      ...        \n",
       "std      0.284536  2.746459e-01    0.134706    0.150143      ...        \n",
       "min      0.000026 -5.719317e-01   -0.358121   -0.483743      ...        \n",
       "25%      0.061086 -5.155632e-02   -0.023672   -0.042980      ...        \n",
       "50%      0.252195 -2.544062e-07    0.006603   -0.000039      ...        \n",
       "75%      0.464189  1.099616e-01    0.086392    0.079510      ...        \n",
       "max      1.229659  1.228137e+00    0.449251    0.505577      ...        \n",
       "\n",
       "               F101          F102          F103          F104          F105  \\\n",
       "count  1.180000e+02  1.180000e+02  1.180000e+02  1.180000e+02  1.180000e+02   \n",
       "mean   1.666277e-03  5.318746e-03  1.034778e-04  3.040300e-03  6.883363e-05   \n",
       "std    3.270108e-02  1.401976e-02  1.037912e-02  8.199982e-03  8.999227e-03   \n",
       "min   -9.629816e-02  4.154654e-19 -3.807164e-02  1.654413e-15 -2.658637e-02   \n",
       "25%   -2.499491e-04  3.190712e-07 -1.292165e-04  4.926304e-07 -1.886999e-04   \n",
       "50%   -2.358636e-10  7.528015e-05 -7.169183e-09  3.952184e-05 -1.601372e-09   \n",
       "75%    1.990047e-05  2.657392e-03  1.300154e-05  1.488900e-03  1.040952e-05   \n",
       "max    1.855202e-01  9.266468e-02  7.463629e-02  6.011542e-02  5.928096e-02   \n",
       "\n",
       "               F106          F107          F108          F109         F1010  \n",
       "count  1.180000e+02  1.180000e+02  1.180000e+02  1.180000e+02  1.180000e+02  \n",
       "mean   3.728850e-03 -5.005615e-04  9.919896e-03 -3.464200e-03  1.020867e-01  \n",
       "std    1.086785e-02  1.787292e-02  3.239311e-02  8.460621e-02  3.722619e-01  \n",
       "min    2.233143e-15 -1.131167e-01  1.657812e-19 -4.812764e-01  1.230706e-23  \n",
       "25%    1.372054e-06 -3.813760e-04  1.261911e-06 -1.980744e-03  8.750001e-07  \n",
       "50%    6.938687e-05 -4.489879e-09  2.349402e-04 -9.687178e-09  1.020189e-03  \n",
       "75%    1.535721e-03  1.705464e-05  3.727489e-03  2.585553e-05  2.162350e-02  \n",
       "max    8.255459e-02  1.149654e-01  2.333247e-01  6.089941e-01  2.811408e+00  \n",
       "\n",
       "[8 rows x 67 columns]"
      ]
     },
     "execution_count": 552,
     "metadata": {},
     "output_type": "execute_result"
    }
   ],
   "source": [
    "data.describe()"
   ]
  },
  {
   "cell_type": "markdown",
   "metadata": {},
   "source": [
    "## Implement model\n",
    "\n",
    "Now let's implement the cost function taking into account the regularization term"
   ]
  },
  {
   "cell_type": "code",
   "execution_count": 553,
   "metadata": {
    "collapsed": true
   },
   "outputs": [],
   "source": [
    "# function definition\n",
    "def sigmoid(z):\n",
    "    return 1 / (1 + np.exp(-z))"
   ]
  },
  {
   "cell_type": "code",
   "execution_count": 554,
   "metadata": {
    "collapsed": true
   },
   "outputs": [],
   "source": [
    "# set X (training data) and y (target variable)\n",
    "numCols = data.shape[1]\n",
    "Xdf = data.iloc[:,1:numCols] # all columns except first (iloc allows for an integer-location based indexing)\n",
    "ydf = data.iloc[:,0:1] # only first column"
   ]
  },
  {
   "cell_type": "code",
   "execution_count": 555,
   "metadata": {
    "collapsed": false
   },
   "outputs": [
    {
     "name": "stdout",
     "output_type": "stream",
     "text": [
      "(118, 66) (66,) (118, 1)\n"
     ]
    }
   ],
   "source": [
    "# convert X,y,theta to np matrices to speed up calculus\n",
    "# (to arrays because scikit fmin uses ndarrays)\n",
    "# (we will internally convert to matrices within our cost function)\n",
    "X = np.array(Xdf.values)\n",
    "y = np.array(ydf.values)\n",
    "thetaStart = np.zeros(X.shape[1],dtype=np.float) # initilaized to (0,...,0)\n",
    "\n",
    "print(X.shape, thetaStart.shape, y.shape)"
   ]
  },
  {
   "cell_type": "markdown",
   "metadata": {},
   "source": [
    "Now let's construct the cost function"
   ]
  },
  {
   "cell_type": "code",
   "execution_count": 556,
   "metadata": {
    "collapsed": true
   },
   "outputs": [],
   "source": [
    "# define the hypotehsis function\n",
    "def h(X, theta):\n",
    "    return sigmoid(X*theta.T)"
   ]
  },
  {
   "cell_type": "code",
   "execution_count": 557,
   "metadata": {
    "collapsed": true
   },
   "outputs": [],
   "source": [
    "# cost function\n",
    "def computeSetCost(theta, X, y, lmbda):\n",
    "    # convert to matrices to use notation of algebra operations\n",
    "    theta = np.matrix(theta)\n",
    "    X = np.matrix(X)\n",
    "    y = np.matrix(y)\n",
    "    \n",
    "    # compute first, second and regularization terms\n",
    "    first = np.multiply(-y, np.log(h(X, theta)))\n",
    "    second = np.multiply((1 - y), np.log(1 - h(X, theta)))\n",
    "    reg = lmbda/(2*len(X)) * np.sum(np.power(theta[:,1:theta.shape[1]],2)) # all thetas except theta[0]\n",
    "        \n",
    "    return np.sum(first - second) / len(X) + reg"
   ]
  },
  {
   "cell_type": "code",
   "execution_count": 588,
   "metadata": {
    "collapsed": false
   },
   "outputs": [
    {
     "data": {
      "text/plain": [
       "0.6931471805599454"
      ]
     },
     "execution_count": 588,
     "metadata": {},
     "output_type": "execute_result"
    }
   ],
   "source": [
    "# compute the cost of the initial solution with theta = (0,...,0)\n",
    "lmbda = 100.0\n",
    "computeSetCost(thetaStart, X, y, lmbda)"
   ]
  },
  {
   "cell_type": "markdown",
   "metadata": {},
   "source": [
    "Now let's implement the gradient algorithm. Actually, we will use scipy.optimize function \"fmin\"\n",
    "\n",
    "http://docs.scipy.org/doc/scipy-0.16.0/reference/generated/scipy.optimize.fmin.html"
   ]
  },
  {
   "cell_type": "code",
   "execution_count": 589,
   "metadata": {
    "collapsed": true
   },
   "outputs": [],
   "source": [
    "from scipy import optimize\n",
    "\n",
    "# just a helper function to call scipy fmin optimzation function\n",
    "def optimizeTheta(X, y, theta, lmbda):\n",
    "    # result = optimize.fmin(computeSetCost, x0=theta, args=(X, y, lmbda), maxiter=10000000, full_output=True) # not converging...\n",
    "    # return result[0], result[1]\n",
    "    result = optimize.minimize(computeSetCost, theta, args=(X, y, lmbda),  method='BFGS', options={\"maxiter\":500, \"disp\":False} )\n",
    "    return result.x, result.fun"
   ]
  },
  {
   "cell_type": "code",
   "execution_count": 590,
   "metadata": {
    "collapsed": false
   },
   "outputs": [],
   "source": [
    "# And optimize!\n",
    "thetaFinal, mincost = optimizeTheta(X, y, thetaStart, lmbda)"
   ]
  },
  {
   "cell_type": "code",
   "execution_count": 591,
   "metadata": {
    "collapsed": false
   },
   "outputs": [
    {
     "name": "stdout",
     "output_type": "stream",
     "text": [
      "0.6830350021515909\n",
      "0.683035002152\n"
     ]
    }
   ],
   "source": [
    "# compute the cost of the final solution\n",
    "print(mincost)\n",
    "print(computeSetCost(thetaFinal, X, y, lmbda))"
   ]
  },
  {
   "cell_type": "code",
   "execution_count": 592,
   "metadata": {
    "collapsed": false
   },
   "outputs": [
    {
     "name": "stdout",
     "output_type": "stream",
     "text": [
      "Final theta values: [  3.80250463e-02  -1.66731165e-02   8.39404813e-03  -5.49450481e-02\n",
      "  -1.30410617e-02  -3.63523131e-02  -1.76857609e-02  -7.53810080e-03\n",
      "  -8.99355850e-03  -1.98154411e-02  -4.29105265e-02  -2.26741618e-03\n",
      "  -1.40628949e-02  -3.49979955e-03  -3.84503227e-02  -2.02178387e-02\n",
      "  -4.64431844e-03  -3.59019340e-03  -6.14275896e-03  -5.07792974e-03\n",
      "  -2.86135562e-02  -3.34884327e-02  -9.92475759e-04  -7.01431724e-03\n",
      "  -3.81680422e-04  -7.81787786e-03  -1.55551139e-03  -3.75988665e-02\n",
      "  -2.04719778e-02  -2.91890528e-03  -2.48302833e-03  -2.41704929e-03\n",
      "  -1.49236652e-03  -4.77806226e-03  -2.79417558e-03  -3.23915770e-02\n",
      "  -2.75324727e-02  -8.17326646e-04  -3.96542363e-03  -2.15955872e-04\n",
      "  -3.01310856e-03  -1.22798113e-04  -5.33978370e-03  -8.16030606e-04\n",
      "  -3.74075634e-02  -1.99879876e-02  -2.12997223e-03  -1.79676194e-03\n",
      "  -1.05006465e-03  -9.00819380e-04  -1.57344453e-03  -6.06627889e-04\n",
      "  -3.90454971e-03  -1.59707185e-03  -3.50424937e-02  -2.38874543e-02\n",
      "  -9.13379046e-04  -2.47155298e-03  -1.38516075e-04  -1.39565102e-03\n",
      "  -1.46795966e-04  -1.71525176e-03   1.73371349e-05  -4.12706614e-03\n",
      "  -5.21161609e-04  -3.83872792e-02]\n"
     ]
    }
   ],
   "source": [
    "print(\"Final theta values:\", thetaFinal)"
   ]
  },
  {
   "cell_type": "markdown",
   "metadata": {},
   "source": [
    "## Evaluate model"
   ]
  },
  {
   "cell_type": "code",
   "execution_count": 593,
   "metadata": {
    "collapsed": true
   },
   "outputs": [],
   "source": [
    "### TODO: PLOT 2D DECISON BOUNDARY ###"
   ]
  },
  {
   "cell_type": "code",
   "execution_count": 594,
   "metadata": {
    "collapsed": true
   },
   "outputs": [],
   "source": [
    "# function to compute the classification prediction\n",
    "def predict(theta, X):\n",
    "    # convert to matrices\n",
    "    X = np.matrix(X)\n",
    "    theta = np.matrix(theta)\n",
    "    return [1 if x >= 0.5 else 0 for x in h(X, theta)]"
   ]
  },
  {
   "cell_type": "code",
   "execution_count": 595,
   "metadata": {
    "collapsed": true
   },
   "outputs": [],
   "source": [
    "# predict admittance in all training set\n",
    "predictions = predict(thetaFinal, X)"
   ]
  },
  {
   "cell_type": "code",
   "execution_count": 596,
   "metadata": {
    "collapsed": true
   },
   "outputs": [],
   "source": [
    "# compute TP & TN & Accuracy\n",
    "true_positives = np.sum([1 if (a == 1 and b == 1) else 0 for (a, b) in zip(predictions, y)])\n",
    "true_negatives = np.sum([1 if (a == 0 and b == 0) else 0 for (a, b) in zip(predictions, y)])"
   ]
  },
  {
   "cell_type": "code",
   "execution_count": 597,
   "metadata": {
    "collapsed": false
   },
   "outputs": [
    {
     "name": "stdout",
     "output_type": "stream",
     "text": [
      "Accuracy: 0.644068\n"
     ]
    }
   ],
   "source": [
    "print(\"Accuracy: %f\" % float((true_positives+true_negatives)/len(predictions)))"
   ]
  },
  {
   "cell_type": "markdown",
   "metadata": {},
   "source": [
    "** Polynomial Degree: 2 **\n",
    "- Lambda 0.0 => Accuracy 0.79 \n",
    "- Lambda 1.0 => Accuracy 0.69 \n",
    "- Lambda 10.0 => Accuracy 0.74 \n",
    "- Lambda 100.0 => Accuracy 0.50\n",
    "\n",
    "** Polynomial Degree: 4 **\n",
    "- Lambda 0.0 => Accuracy 0.84 \n",
    "- Lambda 1.0 => Accuracy 0.82 \n",
    "- Lambda 10.0 => Accuracy 0.72 \n",
    "- Lambda 100.0 => Accuracy 0.61\n",
    "\n",
    "** Polynomial Degree: 6 **\n",
    "- Lambda 0.0 => Accuracy 0.88 \n",
    "- Lambda 1.0 => Accuracy 0.83 \n",
    "- Lambda 10.0 => Accuracy 0.74 \n",
    "- Lambda 100.0 => Accuracy 0.61\n",
    "\n",
    "** Polynomial Degree: 8 **\n",
    "- Lambda 0.0 => Accuracy 0.87 \n",
    "- Lambda 1.0 => Accuracy 0.83 \n",
    "- Lambda 10.0 => Accuracy 0.73 \n",
    "- Lambda 100.0 => Accuracy 0.64\n",
    "\n",
    "** Polynomial Degree: 10 **\n",
    "- Lambda 0.0 => Accuracy 0.73 \n",
    "- Lambda 1.0 => Accuracy 0.83 \n",
    "- Lambda 10.0 => Accuracy 0.72 \n",
    "- Lambda 100.0 => Accuracy 0.64\n"
   ]
  },
  {
   "cell_type": "markdown",
   "metadata": {},
   "source": [
    "It seems we get the best accuracy with a degree of 6 and lambda = 0.0. It makes sense that we get a better accuracy on our training data without regularization (lambda=0) because of overfitting. The model should be evaluated with a test set of data."
   ]
  },
  {
   "cell_type": "code",
   "execution_count": null,
   "metadata": {
    "collapsed": true
   },
   "outputs": [],
   "source": []
  }
 ],
 "metadata": {
  "anaconda-cloud": {},
  "kernelspec": {
   "display_name": "Python 2",
   "language": "python",
   "name": "python2"
  },
  "language_info": {
   "codemirror_mode": {
    "name": "ipython",
    "version": 2
   },
   "file_extension": ".py",
   "mimetype": "text/x-python",
   "name": "python",
   "nbconvert_exporter": "python",
   "pygments_lexer": "ipython2",
   "version": "2.7.12"
  }
 },
 "nbformat": 4,
 "nbformat_minor": 0
}
