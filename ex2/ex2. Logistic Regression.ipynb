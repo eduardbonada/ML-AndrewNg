{
 "cells": [
  {
   "cell_type": "markdown",
   "metadata": {},
   "source": [
    "# Logistic Regression\n",
    "\n",
    "This notebook contains the Programming Exercise 2 of the Andrew Ng's course on Coursera."
   ]
  },
  {
   "cell_type": "code",
   "execution_count": 2,
   "metadata": {
    "collapsed": true
   },
   "outputs": [],
   "source": [
    "import numpy as np\n",
    "import pandas as pd\n",
    "import matplotlib.pyplot as plt\n",
    "%matplotlib inline"
   ]
  },
  {
   "cell_type": "markdown",
   "metadata": {},
   "source": [
    "## Logistic Regression\n",
    "\n",
    "Implement a classification model using Logistic Regression to predict whether a student gets admitted to a university. We will make the decisionbased on the score obtained in two exams. We have historical data about the score of students in such two exams and whether they were admitted or not."
   ]
  },
  {
   "cell_type": "code",
   "execution_count": 18,
   "metadata": {
    "collapsed": false
   },
   "outputs": [],
   "source": [
    "# load data\n",
    "import os\n",
    "data = pd.read_csv(os.getcwd() + '\\ex2data1.txt', header=None, names=['Exam 1', 'Exam 2', 'Admitted'])"
   ]
  },
  {
   "cell_type": "markdown",
   "metadata": {},
   "source": [
    "### Explore data"
   ]
  },
  {
   "cell_type": "code",
   "execution_count": 19,
   "metadata": {
    "collapsed": false
   },
   "outputs": [
    {
     "data": {
      "text/html": [
       "<div>\n",
       "<table border=\"1\" class=\"dataframe\">\n",
       "  <thead>\n",
       "    <tr style=\"text-align: right;\">\n",
       "      <th></th>\n",
       "      <th>Exam 1</th>\n",
       "      <th>Exam 2</th>\n",
       "      <th>Admitted</th>\n",
       "    </tr>\n",
       "  </thead>\n",
       "  <tbody>\n",
       "    <tr>\n",
       "      <th>0</th>\n",
       "      <td>34.623660</td>\n",
       "      <td>78.024693</td>\n",
       "      <td>0</td>\n",
       "    </tr>\n",
       "    <tr>\n",
       "      <th>1</th>\n",
       "      <td>30.286711</td>\n",
       "      <td>43.894998</td>\n",
       "      <td>0</td>\n",
       "    </tr>\n",
       "    <tr>\n",
       "      <th>2</th>\n",
       "      <td>35.847409</td>\n",
       "      <td>72.902198</td>\n",
       "      <td>0</td>\n",
       "    </tr>\n",
       "    <tr>\n",
       "      <th>3</th>\n",
       "      <td>60.182599</td>\n",
       "      <td>86.308552</td>\n",
       "      <td>1</td>\n",
       "    </tr>\n",
       "    <tr>\n",
       "      <th>4</th>\n",
       "      <td>79.032736</td>\n",
       "      <td>75.344376</td>\n",
       "      <td>1</td>\n",
       "    </tr>\n",
       "  </tbody>\n",
       "</table>\n",
       "</div>"
      ],
      "text/plain": [
       "      Exam 1     Exam 2  Admitted\n",
       "0  34.623660  78.024693         0\n",
       "1  30.286711  43.894998         0\n",
       "2  35.847409  72.902198         0\n",
       "3  60.182599  86.308552         1\n",
       "4  79.032736  75.344376         1"
      ]
     },
     "execution_count": 19,
     "metadata": {},
     "output_type": "execute_result"
    }
   ],
   "source": [
    "data.head()"
   ]
  },
  {
   "cell_type": "code",
   "execution_count": 7,
   "metadata": {
    "collapsed": false
   },
   "outputs": [
    {
     "data": {
      "text/html": [
       "<div>\n",
       "<table border=\"1\" class=\"dataframe\">\n",
       "  <thead>\n",
       "    <tr style=\"text-align: right;\">\n",
       "      <th></th>\n",
       "      <th>Exam 1</th>\n",
       "      <th>Exam 2</th>\n",
       "      <th>Admitted</th>\n",
       "    </tr>\n",
       "  </thead>\n",
       "  <tbody>\n",
       "    <tr>\n",
       "      <th>count</th>\n",
       "      <td>100.000000</td>\n",
       "      <td>100.000000</td>\n",
       "      <td>100.000000</td>\n",
       "    </tr>\n",
       "    <tr>\n",
       "      <th>mean</th>\n",
       "      <td>65.644274</td>\n",
       "      <td>66.221998</td>\n",
       "      <td>0.600000</td>\n",
       "    </tr>\n",
       "    <tr>\n",
       "      <th>std</th>\n",
       "      <td>19.458222</td>\n",
       "      <td>18.582783</td>\n",
       "      <td>0.492366</td>\n",
       "    </tr>\n",
       "    <tr>\n",
       "      <th>min</th>\n",
       "      <td>30.058822</td>\n",
       "      <td>30.603263</td>\n",
       "      <td>0.000000</td>\n",
       "    </tr>\n",
       "    <tr>\n",
       "      <th>25%</th>\n",
       "      <td>50.919511</td>\n",
       "      <td>48.179205</td>\n",
       "      <td>0.000000</td>\n",
       "    </tr>\n",
       "    <tr>\n",
       "      <th>50%</th>\n",
       "      <td>67.032988</td>\n",
       "      <td>67.682381</td>\n",
       "      <td>1.000000</td>\n",
       "    </tr>\n",
       "    <tr>\n",
       "      <th>75%</th>\n",
       "      <td>80.212529</td>\n",
       "      <td>79.360605</td>\n",
       "      <td>1.000000</td>\n",
       "    </tr>\n",
       "    <tr>\n",
       "      <th>max</th>\n",
       "      <td>99.827858</td>\n",
       "      <td>98.869436</td>\n",
       "      <td>1.000000</td>\n",
       "    </tr>\n",
       "  </tbody>\n",
       "</table>\n",
       "</div>"
      ],
      "text/plain": [
       "           Exam 1      Exam 2    Admitted\n",
       "count  100.000000  100.000000  100.000000\n",
       "mean    65.644274   66.221998    0.600000\n",
       "std     19.458222   18.582783    0.492366\n",
       "min     30.058822   30.603263    0.000000\n",
       "25%     50.919511   48.179205    0.000000\n",
       "50%     67.032988   67.682381    1.000000\n",
       "75%     80.212529   79.360605    1.000000\n",
       "max     99.827858   98.869436    1.000000"
      ]
     },
     "execution_count": 7,
     "metadata": {},
     "output_type": "execute_result"
    }
   ],
   "source": [
    "data.describe()"
   ]
  },
  {
   "cell_type": "code",
   "execution_count": 8,
   "metadata": {
    "collapsed": false
   },
   "outputs": [
    {
     "data": {
      "text/plain": [
       "array([[<matplotlib.axes._subplots.AxesSubplot object at 0x000000000932FA58>,\n",
       "        <matplotlib.axes._subplots.AxesSubplot object at 0x0000000009802BA8>],\n",
       "       [<matplotlib.axes._subplots.AxesSubplot object at 0x0000000009839C50>,\n",
       "        <matplotlib.axes._subplots.AxesSubplot object at 0x00000000099892B0>]], dtype=object)"
      ]
     },
     "execution_count": 8,
     "metadata": {},
     "output_type": "execute_result"
    },
    {
     "data": {
      "image/png": "[encoded data removed]",
      "text/plain": [
       "<matplotlib.figure.Figure at 0x932f128>"
      ]
     },
     "metadata": {},
     "output_type": "display_data"
    }
   ],
   "source": [
    "data.hist()"
   ]
  },
  {
   "cell_type": "code",
   "execution_count": 17,
   "metadata": {
    "collapsed": false
   },
   "outputs": [
    {
     "data": {
      "text/plain": [
       "<matplotlib.text.Text at 0xb035978>"
      ]
     },
     "execution_count": 17,
     "metadata": {},
     "output_type": "execute_result"
    },
    {
     "data": {
      "image/png": "[encoded data removed]",
      "text/plain": [
       "<matplotlib.figure.Figure at 0xa244400>"
      ]
     },
     "metadata": {},
     "output_type": "display_data"
    }
   ],
   "source": [
    "# scatter plot to visualize the data\n",
    "admitted = data[data['Admitted']==1]\n",
    "rejected = data[data['Admitted']==0]\n",
    "\n",
    "fig, ax = plt.subplots(figsize=(12,8))\n",
    "ax.scatter(admitted['Exam 1'], admitted['Exam 2'], s=80, c='g', marker='o', label='Admitted')\n",
    "ax.scatter(rejected['Exam 1'], rejected['Exam 2'], s=80, c='r', marker='x', label='Rejected')\n",
    "ax.legend()\n",
    "ax.set_xlabel('Exam 1 Score')\n",
    "ax.set_ylabel('Exam 2 Score')"
   ]
  },
  {
   "cell_type": "markdown",
   "metadata": {},
   "source": [
    "There is a quite clear boundary, so it should be no problem for LogReg to find it"
   ]
  },
  {
   "cell_type": "markdown",
   "metadata": {},
   "source": [
    "### Implement the model (own)"
   ]
  },
  {
   "cell_type": "markdown",
   "metadata": {},
   "source": [
    "Let's start by implementing the sigmoif function and making sure it behaves as expected"
   ]
  },
  {
   "cell_type": "code",
   "execution_count": 21,
   "metadata": {
    "collapsed": true
   },
   "outputs": [],
   "source": [
    "# function definition\n",
    "def sigmoid(z):\n",
    "    return 1 / (1 + np.exp(-z))"
   ]
  },
  {
   "cell_type": "code",
   "execution_count": 23,
   "metadata": {
    "collapsed": false
   },
   "outputs": [
    {
     "data": {
      "text/plain": [
       "[<matplotlib.lines.Line2D at 0xb30b3c8>]"
      ]
     },
     "execution_count": 23,
     "metadata": {},
     "output_type": "execute_result"
    },
    {
     "data": {
      "image/png": "[encoded data removed]",
      "text/plain": [
       "<matplotlib.figure.Figure at 0xb30b390>"
      ]
     },
     "metadata": {},
     "output_type": "display_data"
    }
   ],
   "source": [
    "# behavior check\n",
    "nums = np.arange(-10, 10, step=0.5)\n",
    "fig, ax = plt.subplots(figsize=(6,4))\n",
    "ax.plot(nums, sigmoid(nums), 'r')"
   ]
  },
  {
   "cell_type": "markdown",
   "metadata": {},
   "source": [
    "Let's now prepare the data to be used by the LogReg model"
   ]
  },
  {
   "cell_type": "code",
   "execution_count": null,
   "metadata": {
    "collapsed": true
   },
   "outputs": [],
   "source": [
    "# add a ones column - this makes the matrix multiplication work out easier\n",
    "data.insert(0, 'Ones', 1)"
   ]
  },
  {
   "cell_type": "code",
   "execution_count": 30,
   "metadata": {
    "collapsed": false
   },
   "outputs": [],
   "source": [
    "# set X (training data) and y (target variable)\n",
    "numCols = data.shape[1]\n",
    "Xdf = data.iloc[:,0:numCols-1] # all columns except last (iloc allows for an integer-location based indexing)\n",
    "ydf = data.iloc[:,numCols-1:numCols] # only last column"
   ]
  },
  {
   "cell_type": "code",
   "execution_count": 89,
   "metadata": {
    "collapsed": false
   },
   "outputs": [
    {
     "name": "stdout",
     "output_type": "stream",
     "text": [
      "((100L, 3L), (3L, 1L), (100L, 1L))\n"
     ]
    }
   ],
   "source": [
    "# convert X,y,theta to np matrices to speed up calculus\n",
    "X = np.matrix(Xdf.values)\n",
    "y = np.matrix(ydf.values)\n",
    "thetaStart = np.matrix(np.array([0,0,0],dtype=np.float)).T # initilaized to (0,0,0)\n",
    "print(X.shape, thetaStart.shape, y.shape)"
   ]
  },
  {
   "cell_type": "markdown",
   "metadata": {},
   "source": [
    "Now let's construct the cost function"
   ]
  },
  {
   "cell_type": "code",
   "execution_count": 110,
   "metadata": {
    "collapsed": true
   },
   "outputs": [],
   "source": [
    "# cost function\n",
    "def computeSetCost(theta, X, y):\n",
    "    print X\n",
    "    print theta\n",
    "    first = np.multiply(-y, np.log(sigmoid(X * theta.T)))\n",
    "    second = np.multiply((1 - y), np.log(1 - sigmoid(X * theta.T)))\n",
    "    return np.sum(first - second) / len(X)"
   ]
  },
  {
   "cell_type": "code",
   "execution_count": 103,
   "metadata": {
    "collapsed": false
   },
   "outputs": [
    {
     "name": "stdout",
     "output_type": "stream",
     "text": [
      "[[  1.          34.62365962  78.02469282]\n",
      " [  1.          30.28671077  43.89499752]\n",
      " [  1.          35.84740877  72.90219803]\n",
      " [  1.          60.18259939  86.3085521 ]\n",
      " [  1.          79.03273605  75.34437644]\n",
      " [  1.          45.08327748  56.31637178]\n",
      " [  1.          61.10666454  96.51142588]\n",
      " [  1.          75.02474557  46.55401354]\n",
      " [  1.          76.0987867   87.42056972]\n",
      " [  1.          84.43281996  43.53339331]\n",
      " [  1.          95.86155507  38.22527806]\n",
      " [  1.          75.01365839  30.60326323]\n",
      " [  1.          82.30705337  76.4819633 ]\n",
      " [  1.          69.36458876  97.71869196]\n",
      " [  1.          39.53833914  76.03681085]\n",
      " [  1.          53.97105215  89.20735014]\n",
      " [  1.          69.07014406  52.74046973]\n",
      " [  1.          67.94685548  46.67857411]\n",
      " [  1.          70.66150955  92.92713789]\n",
      " [  1.          76.97878373  47.57596365]\n",
      " [  1.          67.37202755  42.83843832]\n",
      " [  1.          89.67677575  65.79936593]\n",
      " [  1.          50.53478829  48.85581153]\n",
      " [  1.          34.21206098  44.2095286 ]\n",
      " [  1.          77.92409145  68.97235999]\n",
      " [  1.          62.27101367  69.95445795]\n",
      " [  1.          80.19018075  44.82162893]\n",
      " [  1.          93.1143888   38.80067034]\n",
      " [  1.          61.83020602  50.25610789]\n",
      " [  1.          38.7858038   64.99568096]\n",
      " [  1.          61.37928945  72.80788731]\n",
      " [  1.          85.40451939  57.05198398]\n",
      " [  1.          52.10797973  63.12762377]\n",
      " [  1.          52.04540477  69.43286012]\n",
      " [  1.          40.23689374  71.16774802]\n",
      " [  1.          54.63510555  52.21388588]\n",
      " [  1.          33.91550011  98.86943574]\n",
      " [  1.          64.17698887  80.90806059]\n",
      " [  1.          74.78925296  41.57341523]\n",
      " [  1.          34.18364003  75.23772034]\n",
      " [  1.          83.90239366  56.30804622]\n",
      " [  1.          51.54772027  46.85629026]\n",
      " [  1.          94.44336777  65.56892161]\n",
      " [  1.          82.36875376  40.61825516]\n",
      " [  1.          51.04775177  45.82270146]\n",
      " [  1.          62.22267576  52.06099195]\n",
      " [  1.          77.19303493  70.4582    ]\n",
      " [  1.          97.77159928  86.72782233]\n",
      " [  1.          62.0730638   96.76882412]\n",
      " [  1.          91.5649745   88.69629255]\n",
      " [  1.          79.94481794  74.16311935]\n",
      " [  1.          99.27252693  60.999031  ]\n",
      " [  1.          90.54671411  43.39060181]\n",
      " [  1.          34.52451385  60.39634246]\n",
      " [  1.          50.28649612  49.80453881]\n",
      " [  1.          49.58667722  59.80895099]\n",
      " [  1.          97.64563396  68.86157272]\n",
      " [  1.          32.57720017  95.59854761]\n",
      " [  1.          74.24869137  69.82457123]\n",
      " [  1.          71.79646206  78.45356225]\n",
      " [  1.          75.39561147  85.75993667]\n",
      " [  1.          35.28611282  47.02051395]\n",
      " [  1.          56.2538175   39.26147251]\n",
      " [  1.          30.05882245  49.59297387]\n",
      " [  1.          44.66826172  66.45008615]\n",
      " [  1.          66.56089447  41.09209808]\n",
      " [  1.          40.45755098  97.53518549]\n",
      " [  1.          49.07256322  51.88321182]\n",
      " [  1.          80.27957401  92.11606081]\n",
      " [  1.          66.74671857  60.99139403]\n",
      " [  1.          32.72283304  43.30717306]\n",
      " [  1.          64.03932042  78.03168802]\n",
      " [  1.          72.34649423  96.22759297]\n",
      " [  1.          60.45788574  73.0949981 ]\n",
      " [  1.          58.84095622  75.85844831]\n",
      " [  1.          99.8278578   72.36925193]\n",
      " [  1.          47.26426911  88.475865  ]\n",
      " [  1.          50.4581598   75.80985953]\n",
      " [  1.          60.45555629  42.50840944]\n",
      " [  1.          82.22666158  42.71987854]\n",
      " [  1.          88.91389642  69.8037889 ]\n",
      " [  1.          94.83450672  45.6943068 ]\n",
      " [  1.          67.31925747  66.58935318]\n",
      " [  1.          57.23870632  59.51428198]\n",
      " [  1.          80.366756    90.9601479 ]\n",
      " [  1.          68.46852179  85.5943071 ]\n",
      " [  1.          42.07545454  78.844786  ]\n",
      " [  1.          75.47770201  90.424539  ]\n",
      " [  1.          78.63542435  96.64742717]\n",
      " [  1.          52.34800399  60.76950526]\n",
      " [  1.          94.09433113  77.15910509]\n",
      " [  1.          90.44855097  87.50879176]\n",
      " [  1.          55.48216114  35.57070347]\n",
      " [  1.          74.49269242  84.84513685]\n",
      " [  1.          89.84580671  45.35828361]\n",
      " [  1.          83.48916274  48.3802858 ]\n",
      " [  1.          42.26170081  87.10385094]\n",
      " [  1.          99.31500881  68.77540947]\n",
      " [  1.          55.34001756  64.93193801]\n",
      " [  1.          74.775893    89.5298129 ]]\n",
      "[[ 0.]\n",
      " [ 0.]\n",
      " [ 0.]]\n"
     ]
    },
    {
     "data": {
      "text/plain": [
       "0.69314718055994529"
      ]
     },
     "execution_count": 103,
     "metadata": {},
     "output_type": "execute_result"
    }
   ],
   "source": [
    "# compute the cost of the initial solution with theta = (0,0,0)\n",
    "computeSetCost(thetaStart, X, y)"
   ]
  },
  {
   "cell_type": "markdown",
   "metadata": {},
   "source": [
    "Now let's implement the gradient algorithm. Actually, we will use scipy.optimize function \"fmin\"\n",
    "\n",
    "http://docs.scipy.org/doc/scipy-0.16.0/reference/generated/scipy.optimize.fmin.html\n"
   ]
  },
  {
   "cell_type": "code",
   "execution_count": 111,
   "metadata": {
    "collapsed": false
   },
   "outputs": [],
   "source": [
    "from scipy import optimize\n",
    "\n",
    "def optimizeTheta(X, y, theta):\n",
    "    print X\n",
    "    print y\n",
    "    print theta\n",
    "    result = optimize.fmin(computeSetCost, x0=theta, args=(X, y), maxiter=400, full_output=True)\n",
    "    return result[0], result[1]"
   ]
  },
  {
   "cell_type": "code",
   "execution_count": 112,
   "metadata": {
    "collapsed": false
   },
   "outputs": [
    {
     "name": "stdout",
     "output_type": "stream",
     "text": [
      "[[  1.          34.62365962  78.02469282]\n",
      " [  1.          30.28671077  43.89499752]\n",
      " [  1.          35.84740877  72.90219803]\n",
      " [  1.          60.18259939  86.3085521 ]\n",
      " [  1.          79.03273605  75.34437644]\n",
      " [  1.          45.08327748  56.31637178]\n",
      " [  1.          61.10666454  96.51142588]\n",
      " [  1.          75.02474557  46.55401354]\n",
      " [  1.          76.0987867   87.42056972]\n",
      " [  1.          84.43281996  43.53339331]\n",
      " [  1.          95.86155507  38.22527806]\n",
      " [  1.          75.01365839  30.60326323]\n",
      " [  1.          82.30705337  76.4819633 ]\n",
      " [  1.          69.36458876  97.71869196]\n",
      " [  1.          39.53833914  76.03681085]\n",
      " [  1.          53.97105215  89.20735014]\n",
      " [  1.          69.07014406  52.74046973]\n",
      " [  1.          67.94685548  46.67857411]\n",
      " [  1.          70.66150955  92.92713789]\n",
      " [  1.          76.97878373  47.57596365]\n",
      " [  1.          67.37202755  42.83843832]\n",
      " [  1.          89.67677575  65.79936593]\n",
      " [  1.          50.53478829  48.85581153]\n",
      " [  1.          34.21206098  44.2095286 ]\n",
      " [  1.          77.92409145  68.97235999]\n",
      " [  1.          62.27101367  69.95445795]\n",
      " [  1.          80.19018075  44.82162893]\n",
      " [  1.          93.1143888   38.80067034]\n",
      " [  1.          61.83020602  50.25610789]\n",
      " [  1.          38.7858038   64.99568096]\n",
      " [  1.          61.37928945  72.80788731]\n",
      " [  1.          85.40451939  57.05198398]\n",
      " [  1.          52.10797973  63.12762377]\n",
      " [  1.          52.04540477  69.43286012]\n",
      " [  1.          40.23689374  71.16774802]\n",
      " [  1.          54.63510555  52.21388588]\n",
      " [  1.          33.91550011  98.86943574]\n",
      " [  1.          64.17698887  80.90806059]\n",
      " [  1.          74.78925296  41.57341523]\n",
      " [  1.          34.18364003  75.23772034]\n",
      " [  1.          83.90239366  56.30804622]\n",
      " [  1.          51.54772027  46.85629026]\n",
      " [  1.          94.44336777  65.56892161]\n",
      " [  1.          82.36875376  40.61825516]\n",
      " [  1.          51.04775177  45.82270146]\n",
      " [  1.          62.22267576  52.06099195]\n",
      " [  1.          77.19303493  70.4582    ]\n",
      " [  1.          97.77159928  86.72782233]\n",
      " [  1.          62.0730638   96.76882412]\n",
      " [  1.          91.5649745   88.69629255]\n",
      " [  1.          79.94481794  74.16311935]\n",
      " [  1.          99.27252693  60.999031  ]\n",
      " [  1.          90.54671411  43.39060181]\n",
      " [  1.          34.52451385  60.39634246]\n",
      " [  1.          50.28649612  49.80453881]\n",
      " [  1.          49.58667722  59.80895099]\n",
      " [  1.          97.64563396  68.86157272]\n",
      " [  1.          32.57720017  95.59854761]\n",
      " [  1.          74.24869137  69.82457123]\n",
      " [  1.          71.79646206  78.45356225]\n",
      " [  1.          75.39561147  85.75993667]\n",
      " [  1.          35.28611282  47.02051395]\n",
      " [  1.          56.2538175   39.26147251]\n",
      " [  1.          30.05882245  49.59297387]\n",
      " [  1.          44.66826172  66.45008615]\n",
      " [  1.          66.56089447  41.09209808]\n",
      " [  1.          40.45755098  97.53518549]\n",
      " [  1.          49.07256322  51.88321182]\n",
      " [  1.          80.27957401  92.11606081]\n",
      " [  1.          66.74671857  60.99139403]\n",
      " [  1.          32.72283304  43.30717306]\n",
      " [  1.          64.03932042  78.03168802]\n",
      " [  1.          72.34649423  96.22759297]\n",
      " [  1.          60.45788574  73.0949981 ]\n",
      " [  1.          58.84095622  75.85844831]\n",
      " [  1.          99.8278578   72.36925193]\n",
      " [  1.          47.26426911  88.475865  ]\n",
      " [  1.          50.4581598   75.80985953]\n",
      " [  1.          60.45555629  42.50840944]\n",
      " [  1.          82.22666158  42.71987854]\n",
      " [  1.          88.91389642  69.8037889 ]\n",
      " [  1.          94.83450672  45.6943068 ]\n",
      " [  1.          67.31925747  66.58935318]\n",
      " [  1.          57.23870632  59.51428198]\n",
      " [  1.          80.366756    90.9601479 ]\n",
      " [  1.          68.46852179  85.5943071 ]\n",
      " [  1.          42.07545454  78.844786  ]\n",
      " [  1.          75.47770201  90.424539  ]\n",
      " [  1.          78.63542435  96.64742717]\n",
      " [  1.          52.34800399  60.76950526]\n",
      " [  1.          94.09433113  77.15910509]\n",
      " [  1.          90.44855097  87.50879176]\n",
      " [  1.          55.48216114  35.57070347]\n",
      " [  1.          74.49269242  84.84513685]\n",
      " [  1.          89.84580671  45.35828361]\n",
      " [  1.          83.48916274  48.3802858 ]\n",
      " [  1.          42.26170081  87.10385094]\n",
      " [  1.          99.31500881  68.77540947]\n",
      " [  1.          55.34001756  64.93193801]\n",
      " [  1.          74.775893    89.5298129 ]]\n",
      "[[0]\n",
      " [0]\n",
      " [0]\n",
      " [1]\n",
      " [1]\n",
      " [0]\n",
      " [1]\n",
      " [1]\n",
      " [1]\n",
      " [1]\n",
      " [0]\n",
      " [0]\n",
      " [1]\n",
      " [1]\n",
      " [0]\n",
      " [1]\n",
      " [1]\n",
      " [0]\n",
      " [1]\n",
      " [1]\n",
      " [0]\n",
      " [1]\n",
      " [0]\n",
      " [0]\n",
      " [1]\n",
      " [1]\n",
      " [1]\n",
      " [0]\n",
      " [0]\n",
      " [0]\n",
      " [1]\n",
      " [1]\n",
      " [0]\n",
      " [1]\n",
      " [0]\n",
      " [0]\n",
      " [0]\n",
      " [1]\n",
      " [0]\n",
      " [0]\n",
      " [1]\n",
      " [0]\n",
      " [1]\n",
      " [0]\n",
      " [0]\n",
      " [0]\n",
      " [1]\n",
      " [1]\n",
      " [1]\n",
      " [1]\n",
      " [1]\n",
      " [1]\n",
      " [1]\n",
      " [0]\n",
      " [0]\n",
      " [0]\n",
      " [1]\n",
      " [0]\n",
      " [1]\n",
      " [1]\n",
      " [1]\n",
      " [0]\n",
      " [0]\n",
      " [0]\n",
      " [0]\n",
      " [0]\n",
      " [1]\n",
      " [0]\n",
      " [1]\n",
      " [1]\n",
      " [0]\n",
      " [1]\n",
      " [1]\n",
      " [1]\n",
      " [1]\n",
      " [1]\n",
      " [1]\n",
      " [1]\n",
      " [0]\n",
      " [0]\n",
      " [1]\n",
      " [1]\n",
      " [1]\n",
      " [1]\n",
      " [1]\n",
      " [1]\n",
      " [0]\n",
      " [1]\n",
      " [1]\n",
      " [0]\n",
      " [1]\n",
      " [1]\n",
      " [0]\n",
      " [1]\n",
      " [1]\n",
      " [1]\n",
      " [1]\n",
      " [1]\n",
      " [1]\n",
      " [1]]\n",
      "[[ 0.]\n",
      " [ 0.]\n",
      " [ 0.]]\n",
      "[[  1.          34.62365962  78.02469282]\n",
      " [  1.          30.28671077  43.89499752]\n",
      " [  1.          35.84740877  72.90219803]\n",
      " [  1.          60.18259939  86.3085521 ]\n",
      " [  1.          79.03273605  75.34437644]\n",
      " [  1.          45.08327748  56.31637178]\n",
      " [  1.          61.10666454  96.51142588]\n",
      " [  1.          75.02474557  46.55401354]\n",
      " [  1.          76.0987867   87.42056972]\n",
      " [  1.          84.43281996  43.53339331]\n",
      " [  1.          95.86155507  38.22527806]\n",
      " [  1.          75.01365839  30.60326323]\n",
      " [  1.          82.30705337  76.4819633 ]\n",
      " [  1.          69.36458876  97.71869196]\n",
      " [  1.          39.53833914  76.03681085]\n",
      " [  1.          53.97105215  89.20735014]\n",
      " [  1.          69.07014406  52.74046973]\n",
      " [  1.          67.94685548  46.67857411]\n",
      " [  1.          70.66150955  92.92713789]\n",
      " [  1.          76.97878373  47.57596365]\n",
      " [  1.          67.37202755  42.83843832]\n",
      " [  1.          89.67677575  65.79936593]\n",
      " [  1.          50.53478829  48.85581153]\n",
      " [  1.          34.21206098  44.2095286 ]\n",
      " [  1.          77.92409145  68.97235999]\n",
      " [  1.          62.27101367  69.95445795]\n",
      " [  1.          80.19018075  44.82162893]\n",
      " [  1.          93.1143888   38.80067034]\n",
      " [  1.          61.83020602  50.25610789]\n",
      " [  1.          38.7858038   64.99568096]\n",
      " [  1.          61.37928945  72.80788731]\n",
      " [  1.          85.40451939  57.05198398]\n",
      " [  1.          52.10797973  63.12762377]\n",
      " [  1.          52.04540477  69.43286012]\n",
      " [  1.          40.23689374  71.16774802]\n",
      " [  1.          54.63510555  52.21388588]\n",
      " [  1.          33.91550011  98.86943574]\n",
      " [  1.          64.17698887  80.90806059]\n",
      " [  1.          74.78925296  41.57341523]\n",
      " [  1.          34.18364003  75.23772034]\n",
      " [  1.          83.90239366  56.30804622]\n",
      " [  1.          51.54772027  46.85629026]\n",
      " [  1.          94.44336777  65.56892161]\n",
      " [  1.          82.36875376  40.61825516]\n",
      " [  1.          51.04775177  45.82270146]\n",
      " [  1.          62.22267576  52.06099195]\n",
      " [  1.          77.19303493  70.4582    ]\n",
      " [  1.          97.77159928  86.72782233]\n",
      " [  1.          62.0730638   96.76882412]\n",
      " [  1.          91.5649745   88.69629255]\n",
      " [  1.          79.94481794  74.16311935]\n",
      " [  1.          99.27252693  60.999031  ]\n",
      " [  1.          90.54671411  43.39060181]\n",
      " [  1.          34.52451385  60.39634246]\n",
      " [  1.          50.28649612  49.80453881]\n",
      " [  1.          49.58667722  59.80895099]\n",
      " [  1.          97.64563396  68.86157272]\n",
      " [  1.          32.57720017  95.59854761]\n",
      " [  1.          74.24869137  69.82457123]\n",
      " [  1.          71.79646206  78.45356225]\n",
      " [  1.          75.39561147  85.75993667]\n",
      " [  1.          35.28611282  47.02051395]\n",
      " [  1.          56.2538175   39.26147251]\n",
      " [  1.          30.05882245  49.59297387]\n",
      " [  1.          44.66826172  66.45008615]\n",
      " [  1.          66.56089447  41.09209808]\n",
      " [  1.          40.45755098  97.53518549]\n",
      " [  1.          49.07256322  51.88321182]\n",
      " [  1.          80.27957401  92.11606081]\n",
      " [  1.          66.74671857  60.99139403]\n",
      " [  1.          32.72283304  43.30717306]\n",
      " [  1.          64.03932042  78.03168802]\n",
      " [  1.          72.34649423  96.22759297]\n",
      " [  1.          60.45788574  73.0949981 ]\n",
      " [  1.          58.84095622  75.85844831]\n",
      " [  1.          99.8278578   72.36925193]\n",
      " [  1.          47.26426911  88.475865  ]\n",
      " [  1.          50.4581598   75.80985953]\n",
      " [  1.          60.45555629  42.50840944]\n",
      " [  1.          82.22666158  42.71987854]\n",
      " [  1.          88.91389642  69.8037889 ]\n",
      " [  1.          94.83450672  45.6943068 ]\n",
      " [  1.          67.31925747  66.58935318]\n",
      " [  1.          57.23870632  59.51428198]\n",
      " [  1.          80.366756    90.9601479 ]\n",
      " [  1.          68.46852179  85.5943071 ]\n",
      " [  1.          42.07545454  78.844786  ]\n",
      " [  1.          75.47770201  90.424539  ]\n",
      " [  1.          78.63542435  96.64742717]\n",
      " [  1.          52.34800399  60.76950526]\n",
      " [  1.          94.09433113  77.15910509]\n",
      " [  1.          90.44855097  87.50879176]\n",
      " [  1.          55.48216114  35.57070347]\n",
      " [  1.          74.49269242  84.84513685]\n",
      " [  1.          89.84580671  45.35828361]\n",
      " [  1.          83.48916274  48.3802858 ]\n",
      " [  1.          42.26170081  87.10385094]\n",
      " [  1.          99.31500881  68.77540947]\n",
      " [  1.          55.34001756  64.93193801]\n",
      " [  1.          74.775893    89.5298129 ]]\n",
      "[ 0.  0.  0.]\n"
     ]
    },
    {
     "ename": "ValueError",
     "evalue": "shapes (100,3) and (1,3) not aligned: 3 (dim 1) != 1 (dim 0)",
     "output_type": "error",
     "traceback": [
      "\u001b[1;31m---------------------------------------------------------------------------\u001b[0m",
      "\u001b[1;31mValueError\u001b[0m                                Traceback (most recent call last)",
      "\u001b[1;32m<ipython-input-112-82dc52c8bf55>\u001b[0m in \u001b[0;36m<module>\u001b[1;34m()\u001b[0m\n\u001b[0;32m      1\u001b[0m \u001b[1;31m# And optimize!\u001b[0m\u001b[1;33m\u001b[0m\u001b[1;33m\u001b[0m\u001b[0m\n\u001b[1;32m----> 2\u001b[1;33m \u001b[0mtheta\u001b[0m\u001b[1;33m,\u001b[0m \u001b[0mmincost\u001b[0m \u001b[1;33m=\u001b[0m \u001b[0moptimizeTheta\u001b[0m\u001b[1;33m(\u001b[0m\u001b[0mX\u001b[0m\u001b[1;33m,\u001b[0m \u001b[0my\u001b[0m\u001b[1;33m,\u001b[0m \u001b[0mthetaStart\u001b[0m\u001b[1;33m)\u001b[0m\u001b[1;33m\u001b[0m\u001b[0m\n\u001b[0m",
      "\u001b[1;32m<ipython-input-111-72ac533c28b6>\u001b[0m in \u001b[0;36moptimizeTheta\u001b[1;34m(X, y, theta)\u001b[0m\n\u001b[0;32m      5\u001b[0m     \u001b[1;32mprint\u001b[0m \u001b[0my\u001b[0m\u001b[1;33m\u001b[0m\u001b[0m\n\u001b[0;32m      6\u001b[0m     \u001b[1;32mprint\u001b[0m \u001b[0mtheta\u001b[0m\u001b[1;33m\u001b[0m\u001b[0m\n\u001b[1;32m----> 7\u001b[1;33m     \u001b[0mresult\u001b[0m \u001b[1;33m=\u001b[0m \u001b[0moptimize\u001b[0m\u001b[1;33m.\u001b[0m\u001b[0mfmin\u001b[0m\u001b[1;33m(\u001b[0m\u001b[0mcomputeSetCost\u001b[0m\u001b[1;33m,\u001b[0m \u001b[0mx0\u001b[0m\u001b[1;33m=\u001b[0m\u001b[0mtheta\u001b[0m\u001b[1;33m,\u001b[0m \u001b[0margs\u001b[0m\u001b[1;33m=\u001b[0m\u001b[1;33m(\u001b[0m\u001b[0mX\u001b[0m\u001b[1;33m,\u001b[0m \u001b[0my\u001b[0m\u001b[1;33m)\u001b[0m\u001b[1;33m,\u001b[0m \u001b[0mmaxiter\u001b[0m\u001b[1;33m=\u001b[0m\u001b[1;36m400\u001b[0m\u001b[1;33m,\u001b[0m \u001b[0mfull_output\u001b[0m\u001b[1;33m=\u001b[0m\u001b[0mTrue\u001b[0m\u001b[1;33m)\u001b[0m\u001b[1;33m\u001b[0m\u001b[0m\n\u001b[0m\u001b[0;32m      8\u001b[0m     \u001b[1;32mreturn\u001b[0m \u001b[0mresult\u001b[0m\u001b[1;33m[\u001b[0m\u001b[1;36m0\u001b[0m\u001b[1;33m]\u001b[0m\u001b[1;33m,\u001b[0m \u001b[0mresult\u001b[0m\u001b[1;33m[\u001b[0m\u001b[1;36m1\u001b[0m\u001b[1;33m]\u001b[0m\u001b[1;33m\u001b[0m\u001b[0m\n",
      "\u001b[1;32mC:\\Users\\ebonada\\Anaconda2\\lib\\site-packages\\scipy\\optimize\\optimize.pyc\u001b[0m in \u001b[0;36mfmin\u001b[1;34m(func, x0, args, xtol, ftol, maxiter, maxfun, full_output, disp, retall, callback)\u001b[0m\n\u001b[0;32m    379\u001b[0m             'return_all': retall}\n\u001b[0;32m    380\u001b[0m \u001b[1;33m\u001b[0m\u001b[0m\n\u001b[1;32m--> 381\u001b[1;33m     \u001b[0mres\u001b[0m \u001b[1;33m=\u001b[0m \u001b[0m_minimize_neldermead\u001b[0m\u001b[1;33m(\u001b[0m\u001b[0mfunc\u001b[0m\u001b[1;33m,\u001b[0m \u001b[0mx0\u001b[0m\u001b[1;33m,\u001b[0m \u001b[0margs\u001b[0m\u001b[1;33m,\u001b[0m \u001b[0mcallback\u001b[0m\u001b[1;33m=\u001b[0m\u001b[0mcallback\u001b[0m\u001b[1;33m,\u001b[0m \u001b[1;33m**\u001b[0m\u001b[0mopts\u001b[0m\u001b[1;33m)\u001b[0m\u001b[1;33m\u001b[0m\u001b[0m\n\u001b[0m\u001b[0;32m    382\u001b[0m     \u001b[1;32mif\u001b[0m \u001b[0mfull_output\u001b[0m\u001b[1;33m:\u001b[0m\u001b[1;33m\u001b[0m\u001b[0m\n\u001b[0;32m    383\u001b[0m         \u001b[0mretlist\u001b[0m \u001b[1;33m=\u001b[0m \u001b[0mres\u001b[0m\u001b[1;33m[\u001b[0m\u001b[1;34m'x'\u001b[0m\u001b[1;33m]\u001b[0m\u001b[1;33m,\u001b[0m \u001b[0mres\u001b[0m\u001b[1;33m[\u001b[0m\u001b[1;34m'fun'\u001b[0m\u001b[1;33m]\u001b[0m\u001b[1;33m,\u001b[0m \u001b[0mres\u001b[0m\u001b[1;33m[\u001b[0m\u001b[1;34m'nit'\u001b[0m\u001b[1;33m]\u001b[0m\u001b[1;33m,\u001b[0m \u001b[0mres\u001b[0m\u001b[1;33m[\u001b[0m\u001b[1;34m'nfev'\u001b[0m\u001b[1;33m]\u001b[0m\u001b[1;33m,\u001b[0m \u001b[0mres\u001b[0m\u001b[1;33m[\u001b[0m\u001b[1;34m'status'\u001b[0m\u001b[1;33m]\u001b[0m\u001b[1;33m\u001b[0m\u001b[0m\n",
      "\u001b[1;32mC:\\Users\\ebonada\\Anaconda2\\lib\\site-packages\\scipy\\optimize\\optimize.pyc\u001b[0m in \u001b[0;36m_minimize_neldermead\u001b[1;34m(func, x0, args, callback, xtol, ftol, maxiter, maxfev, disp, return_all, **unknown_options)\u001b[0m\n\u001b[0;32m    437\u001b[0m     \u001b[1;32mif\u001b[0m \u001b[0mretall\u001b[0m\u001b[1;33m:\u001b[0m\u001b[1;33m\u001b[0m\u001b[0m\n\u001b[0;32m    438\u001b[0m         \u001b[0mallvecs\u001b[0m \u001b[1;33m=\u001b[0m \u001b[1;33m[\u001b[0m\u001b[0msim\u001b[0m\u001b[1;33m[\u001b[0m\u001b[1;36m0\u001b[0m\u001b[1;33m]\u001b[0m\u001b[1;33m]\u001b[0m\u001b[1;33m\u001b[0m\u001b[0m\n\u001b[1;32m--> 439\u001b[1;33m     \u001b[0mfsim\u001b[0m\u001b[1;33m[\u001b[0m\u001b[1;36m0\u001b[0m\u001b[1;33m]\u001b[0m \u001b[1;33m=\u001b[0m \u001b[0mfunc\u001b[0m\u001b[1;33m(\u001b[0m\u001b[0mx0\u001b[0m\u001b[1;33m)\u001b[0m\u001b[1;33m\u001b[0m\u001b[0m\n\u001b[0m\u001b[0;32m    440\u001b[0m     \u001b[0mnonzdelt\u001b[0m \u001b[1;33m=\u001b[0m \u001b[1;36m0.05\u001b[0m\u001b[1;33m\u001b[0m\u001b[0m\n\u001b[0;32m    441\u001b[0m     \u001b[0mzdelt\u001b[0m \u001b[1;33m=\u001b[0m \u001b[1;36m0.00025\u001b[0m\u001b[1;33m\u001b[0m\u001b[0m\n",
      "\u001b[1;32mC:\\Users\\ebonada\\Anaconda2\\lib\\site-packages\\scipy\\optimize\\optimize.pyc\u001b[0m in \u001b[0;36mfunction_wrapper\u001b[1;34m(*wrapper_args)\u001b[0m\n\u001b[0;32m    287\u001b[0m     \u001b[1;32mdef\u001b[0m \u001b[0mfunction_wrapper\u001b[0m\u001b[1;33m(\u001b[0m\u001b[1;33m*\u001b[0m\u001b[0mwrapper_args\u001b[0m\u001b[1;33m)\u001b[0m\u001b[1;33m:\u001b[0m\u001b[1;33m\u001b[0m\u001b[0m\n\u001b[0;32m    288\u001b[0m         \u001b[0mncalls\u001b[0m\u001b[1;33m[\u001b[0m\u001b[1;36m0\u001b[0m\u001b[1;33m]\u001b[0m \u001b[1;33m+=\u001b[0m \u001b[1;36m1\u001b[0m\u001b[1;33m\u001b[0m\u001b[0m\n\u001b[1;32m--> 289\u001b[1;33m         \u001b[1;32mreturn\u001b[0m \u001b[0mfunction\u001b[0m\u001b[1;33m(\u001b[0m\u001b[1;33m*\u001b[0m\u001b[1;33m(\u001b[0m\u001b[0mwrapper_args\u001b[0m \u001b[1;33m+\u001b[0m \u001b[0margs\u001b[0m\u001b[1;33m)\u001b[0m\u001b[1;33m)\u001b[0m\u001b[1;33m\u001b[0m\u001b[0m\n\u001b[0m\u001b[0;32m    290\u001b[0m \u001b[1;33m\u001b[0m\u001b[0m\n\u001b[0;32m    291\u001b[0m     \u001b[1;32mreturn\u001b[0m \u001b[0mncalls\u001b[0m\u001b[1;33m,\u001b[0m \u001b[0mfunction_wrapper\u001b[0m\u001b[1;33m\u001b[0m\u001b[0m\n",
      "\u001b[1;32m<ipython-input-110-d455d9989e4f>\u001b[0m in \u001b[0;36mcomputeSetCost\u001b[1;34m(theta, X, y)\u001b[0m\n\u001b[0;32m      3\u001b[0m     \u001b[1;32mprint\u001b[0m \u001b[0mX\u001b[0m\u001b[1;33m\u001b[0m\u001b[0m\n\u001b[0;32m      4\u001b[0m     \u001b[1;32mprint\u001b[0m \u001b[0mtheta\u001b[0m\u001b[1;33m\u001b[0m\u001b[0m\n\u001b[1;32m----> 5\u001b[1;33m     \u001b[0mfirst\u001b[0m \u001b[1;33m=\u001b[0m \u001b[0mnp\u001b[0m\u001b[1;33m.\u001b[0m\u001b[0mmultiply\u001b[0m\u001b[1;33m(\u001b[0m\u001b[1;33m-\u001b[0m\u001b[0my\u001b[0m\u001b[1;33m,\u001b[0m \u001b[0mnp\u001b[0m\u001b[1;33m.\u001b[0m\u001b[0mlog\u001b[0m\u001b[1;33m(\u001b[0m\u001b[0msigmoid\u001b[0m\u001b[1;33m(\u001b[0m\u001b[0mX\u001b[0m \u001b[1;33m*\u001b[0m \u001b[0mtheta\u001b[0m\u001b[1;33m.\u001b[0m\u001b[0mT\u001b[0m\u001b[1;33m)\u001b[0m\u001b[1;33m)\u001b[0m\u001b[1;33m)\u001b[0m\u001b[1;33m\u001b[0m\u001b[0m\n\u001b[0m\u001b[0;32m      6\u001b[0m     \u001b[0msecond\u001b[0m \u001b[1;33m=\u001b[0m \u001b[0mnp\u001b[0m\u001b[1;33m.\u001b[0m\u001b[0mmultiply\u001b[0m\u001b[1;33m(\u001b[0m\u001b[1;33m(\u001b[0m\u001b[1;36m1\u001b[0m \u001b[1;33m-\u001b[0m \u001b[0my\u001b[0m\u001b[1;33m)\u001b[0m\u001b[1;33m,\u001b[0m \u001b[0mnp\u001b[0m\u001b[1;33m.\u001b[0m\u001b[0mlog\u001b[0m\u001b[1;33m(\u001b[0m\u001b[1;36m1\u001b[0m \u001b[1;33m-\u001b[0m \u001b[0msigmoid\u001b[0m\u001b[1;33m(\u001b[0m\u001b[0mX\u001b[0m \u001b[1;33m*\u001b[0m \u001b[0mtheta\u001b[0m\u001b[1;33m.\u001b[0m\u001b[0mT\u001b[0m\u001b[1;33m)\u001b[0m\u001b[1;33m)\u001b[0m\u001b[1;33m)\u001b[0m\u001b[1;33m\u001b[0m\u001b[0m\n\u001b[0;32m      7\u001b[0m     \u001b[1;32mreturn\u001b[0m \u001b[0mnp\u001b[0m\u001b[1;33m.\u001b[0m\u001b[0msum\u001b[0m\u001b[1;33m(\u001b[0m\u001b[0mfirst\u001b[0m \u001b[1;33m-\u001b[0m \u001b[0msecond\u001b[0m\u001b[1;33m)\u001b[0m \u001b[1;33m/\u001b[0m \u001b[0mlen\u001b[0m\u001b[1;33m(\u001b[0m\u001b[0mX\u001b[0m\u001b[1;33m)\u001b[0m\u001b[1;33m\u001b[0m\u001b[0m\n",
      "\u001b[1;32mC:\\Users\\ebonada\\Anaconda2\\lib\\site-packages\\numpy\\matrixlib\\defmatrix.pyc\u001b[0m in \u001b[0;36m__mul__\u001b[1;34m(self, other)\u001b[0m\n\u001b[0;32m    341\u001b[0m         \u001b[1;32mif\u001b[0m \u001b[0misinstance\u001b[0m\u001b[1;33m(\u001b[0m\u001b[0mother\u001b[0m\u001b[1;33m,\u001b[0m \u001b[1;33m(\u001b[0m\u001b[0mN\u001b[0m\u001b[1;33m.\u001b[0m\u001b[0mndarray\u001b[0m\u001b[1;33m,\u001b[0m \u001b[0mlist\u001b[0m\u001b[1;33m,\u001b[0m \u001b[0mtuple\u001b[0m\u001b[1;33m)\u001b[0m\u001b[1;33m)\u001b[0m \u001b[1;33m:\u001b[0m\u001b[1;33m\u001b[0m\u001b[0m\n\u001b[0;32m    342\u001b[0m             \u001b[1;31m# This promotes 1-D vectors to row vectors\u001b[0m\u001b[1;33m\u001b[0m\u001b[1;33m\u001b[0m\u001b[0m\n\u001b[1;32m--> 343\u001b[1;33m             \u001b[1;32mreturn\u001b[0m \u001b[0mN\u001b[0m\u001b[1;33m.\u001b[0m\u001b[0mdot\u001b[0m\u001b[1;33m(\u001b[0m\u001b[0mself\u001b[0m\u001b[1;33m,\u001b[0m \u001b[0masmatrix\u001b[0m\u001b[1;33m(\u001b[0m\u001b[0mother\u001b[0m\u001b[1;33m)\u001b[0m\u001b[1;33m)\u001b[0m\u001b[1;33m\u001b[0m\u001b[0m\n\u001b[0m\u001b[0;32m    344\u001b[0m         \u001b[1;32mif\u001b[0m \u001b[0misscalar\u001b[0m\u001b[1;33m(\u001b[0m\u001b[0mother\u001b[0m\u001b[1;33m)\u001b[0m \u001b[1;32mor\u001b[0m \u001b[1;32mnot\u001b[0m \u001b[0mhasattr\u001b[0m\u001b[1;33m(\u001b[0m\u001b[0mother\u001b[0m\u001b[1;33m,\u001b[0m \u001b[1;34m'__rmul__'\u001b[0m\u001b[1;33m)\u001b[0m \u001b[1;33m:\u001b[0m\u001b[1;33m\u001b[0m\u001b[0m\n\u001b[0;32m    345\u001b[0m             \u001b[1;32mreturn\u001b[0m \u001b[0mN\u001b[0m\u001b[1;33m.\u001b[0m\u001b[0mdot\u001b[0m\u001b[1;33m(\u001b[0m\u001b[0mself\u001b[0m\u001b[1;33m,\u001b[0m \u001b[0mother\u001b[0m\u001b[1;33m)\u001b[0m\u001b[1;33m\u001b[0m\u001b[0m\n",
      "\u001b[1;31mValueError\u001b[0m: shapes (100,3) and (1,3) not aligned: 3 (dim 1) != 1 (dim 0)"
     ]
    }
   ],
   "source": [
    "# And optimize!\n",
    "theta, mincost = optimizeTheta(X, y, thetaStart)"
   ]
  },
  {
   "cell_type": "code",
   "execution_count": null,
   "metadata": {
    "collapsed": true
   },
   "outputs": [],
   "source": []
  },
  {
   "cell_type": "code",
   "execution_count": null,
   "metadata": {
    "collapsed": true
   },
   "outputs": [],
   "source": []
  },
  {
   "cell_type": "markdown",
   "metadata": {},
   "source": [
    "### Implement the model (scikit)"
   ]
  }
 ],
 "metadata": {
  "kernelspec": {
   "display_name": "Python 2",
   "language": "python",
   "name": "python2"
  },
  "language_info": {
   "codemirror_mode": {
    "name": "ipython",
    "version": 2
   },
   "file_extension": ".py",
   "mimetype": "text/x-python",
   "name": "python",
   "nbconvert_exporter": "python",
   "pygments_lexer": "ipython2",
   "version": "2.7.12"
  }
 },
 "nbformat": 4,
 "nbformat_minor": 0
}
