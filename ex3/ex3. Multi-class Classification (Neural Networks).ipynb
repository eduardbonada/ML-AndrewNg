{
 "cells": [
  {
   "cell_type": "markdown",
   "metadata": {},
   "source": [
    "# Multi-class Classification: Neural Networks (only Forward Propagation)\n",
    "\n",
    "This notebook contains the last part of the Programming Exercise 3 of the Andrew Ng's course on Coursera.\n",
    "\n",
    "Implement a multi-class classification model using Neural Networks to recognize handwritten numbers (0-9). We will only implement the Forward Propagation as the model has already been trained and the Theta values have been provided.\n",
    "\n",
    "The NN has 3 levels:\n",
    "- L1: 401 = 400 (20x20) features + 1 bias\n",
    "- L2: 25 + 1 bias\n",
    "- L3: 10 classification labels"
   ]
  },
  {
   "cell_type": "code",
   "execution_count": 1,
   "metadata": {
    "collapsed": true
   },
   "outputs": [],
   "source": [
    "import numpy as np\n",
    "import pandas as pd\n",
    "import matplotlib.pyplot as plt\n",
    "%matplotlib inline"
   ]
  },
  {
   "cell_type": "markdown",
   "metadata": {},
   "source": [
    "## Load Data\n",
    "Same as previous exercise with Logistic Regression Classifier"
   ]
  },
  {
   "cell_type": "code",
   "execution_count": 8,
   "metadata": {
    "collapsed": false
   },
   "outputs": [
    {
     "data": {
      "text/plain": [
       "((5000L, 400L), (5000L, 1L))"
      ]
     },
     "execution_count": 8,
     "metadata": {},
     "output_type": "execute_result"
    }
   ],
   "source": [
    "# Load the data (in .mat format)\n",
    "from scipy.io import loadmat\n",
    "data = loadmat('ex3data1.mat')\n",
    "\n",
    "X = data['X']\n",
    "y = data['y']\n",
    "X.shape, y.shape"
   ]
  },
  {
   "cell_type": "markdown",
   "metadata": {},
   "source": [
    "## Load trained model (theta values)"
   ]
  },
  {
   "cell_type": "code",
   "execution_count": 9,
   "metadata": {
    "collapsed": true
   },
   "outputs": [],
   "source": [
    "# Load the data (in .mat format)\n",
    "from scipy.io import loadmat\n",
    "thetas = loadmat('ex3weights.mat')\n",
    "theta1, theta2 = thetas['Theta1'], thetas['Theta2']"
   ]
  },
  {
   "cell_type": "code",
   "execution_count": 10,
   "metadata": {
    "collapsed": false
   },
   "outputs": [
    {
     "name": "stdout",
     "output_type": "stream",
     "text": [
      "Theta1 has shape: (25L, 401L)\n",
      "Theta2 has shape: (10L, 26L)\n"
     ]
    }
   ],
   "source": [
    "print \"Theta1 has shape:\",Theta1.shape\n",
    "print \"Theta2 has shape:\",Theta2.shape"
   ]
  },
  {
   "cell_type": "markdown",
   "metadata": {},
   "source": [
    "- a1 => 401 (400 + 1)\n",
    "- theta1 => 25 x 401\n",
    "- a2 => 26 (25 + 1)\n",
    "- theta2 => 10 x 26\n",
    "- a3 => 10"
   ]
  },
  {
   "cell_type": "markdown",
   "metadata": {},
   "source": [
    "## Forward Propagation"
   ]
  },
  {
   "cell_type": "code",
   "execution_count": 11,
   "metadata": {
    "collapsed": true
   },
   "outputs": [],
   "source": [
    "# sigmoid function definition\n",
    "def sigmoid(z):\n",
    "    return 1 / (1 + np.exp(-z))"
   ]
  },
  {
   "cell_type": "code",
   "execution_count": 33,
   "metadata": {
    "collapsed": false
   },
   "outputs": [],
   "source": [
    "# Function that receives as input an X[1x400], a theta1[25x401] and theta2[10x26]\n",
    "# and returns all the forward propagation intermedate steps (a1, z2, a2, z3, h)\n",
    "def forward_propagate(X, theta1, theta2):\n",
    "    \n",
    "    # convert to matrices to use notation of algebra operations\n",
    "    X = np.matrix(X)\n",
    "    theta1 = np.matrix(theta1)\n",
    "    theta2 = np.matrix(theta2)\n",
    "    \n",
    "    # set helper variable\n",
    "    num_features = X.shape[0]\n",
    "    \n",
    "    # add the bias unit at Level 1 (a1 is a vector of [1x401])\n",
    "    a1 = np.insert(X, 0, values=np.ones(num_features), axis=1)\n",
    "    \n",
    "    # Compute z2 (a1[1x401] · theta1.T[401x25] = z2[1x25])\n",
    "    z2 = a1 * theta1.T\n",
    "    \n",
    "    # Compute a2, and add the bias unit at Level 2 (a2 is a vector of [1x26])\n",
    "    a2 = np.insert(sigmoid(z2), 0, values=np.ones(num_features), axis=1)\n",
    "    \n",
    "    # Compute z3 (a2[1x26] · theta2.T[26x10] = z2[1x10])\n",
    "    z3 = a2 * theta2.T\n",
    "\n",
    "    # Compute h (or a3) (h is a vector of [1x10])\n",
    "    h = sigmoid(z3)\n",
    "    \n",
    "    return a1, z2, a2, z3, h"
   ]
  },
  {
   "cell_type": "code",
   "execution_count": 35,
   "metadata": {
    "collapsed": false
   },
   "outputs": [],
   "source": [
    "# Execute the forward propagation for a single sample of X\n",
    "a1, z2, a2, z3, h = forward_propagate(X[0], theta1, theta2)"
   ]
  },
  {
   "cell_type": "code",
   "execution_count": 37,
   "metadata": {
    "collapsed": false
   },
   "outputs": [
    {
     "name": "stdout",
     "output_type": "stream",
     "text": [
      "a1 has shape:     (1L, 401L)\n",
      "theta1 has shape: (25L, 401L)\n",
      "z2 has shape:     (1L, 25L)\n",
      "a2 has shape:     (1L, 26L)\n",
      "theta2 has shape: (10L, 26L)\n",
      "z3 has shape:     (1L, 10L)\n",
      "h (a3) has shape: (1L, 10L)\n"
     ]
    }
   ],
   "source": [
    "print \"a1 has shape:    \", a1.shape\n",
    "print \"theta1 has shape:\", theta1.shape\n",
    "print \"z2 has shape:    \", z2.shape\n",
    "print \"a2 has shape:    \", a2.shape\n",
    "print \"theta2 has shape:\", theta2.shape\n",
    "print \"z3 has shape:    \", z3.shape\n",
    "print \"h (a3) has shape:\", h.shape"
   ]
  },
  {
   "cell_type": "markdown",
   "metadata": {},
   "source": [
    "OK! Shapes are correct! :)"
   ]
  },
  {
   "cell_type": "code",
   "execution_count": null,
   "metadata": {
    "collapsed": true
   },
   "outputs": [],
   "source": []
  }
 ],
 "metadata": {
  "anaconda-cloud": {},
  "kernelspec": {
   "display_name": "Python [default]",
   "language": "python",
   "name": "python2"
  },
  "language_info": {
   "codemirror_mode": {
    "name": "ipython",
    "version": 2
   },
   "file_extension": ".py",
   "mimetype": "text/x-python",
   "name": "python",
   "nbconvert_exporter": "python",
   "pygments_lexer": "ipython2",
   "version": "2.7.12"
  }
 },
 "nbformat": 4,
 "nbformat_minor": 1
}
